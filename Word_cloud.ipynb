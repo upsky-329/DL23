{
  "nbformat": 4,
  "nbformat_minor": 0,
  "metadata": {
    "colab": {
      "provenance": [],
      "authorship_tag": "ABX9TyO8WKvhGwv3YhildbGHtCmk",
      "include_colab_link": true
    },
    "kernelspec": {
      "name": "python3",
      "display_name": "Python 3"
    },
    "language_info": {
      "name": "python"
    }
  },
  "cells": [
    {
      "cell_type": "markdown",
      "metadata": {
        "id": "view-in-github",
        "colab_type": "text"
      },
      "source": [
        "<a href=\"https://colab.research.google.com/github/upsky-329/DL23/blob/main/Word_cloud.ipynb\" target=\"_parent\"><img src=\"https://colab.research.google.com/assets/colab-badge.svg\" alt=\"Open In Colab\"/></a>"
      ]
    },
    {
      "cell_type": "markdown",
      "source": [
        "##Word cloud code"
      ],
      "metadata": {
        "id": "V1qiiB2rs0ux"
      }
    },
    {
      "cell_type": "code",
      "source": [
        "#@markdown Wordcloud with your own text: Paste your text\n",
        "\n",
        "#Import libraries\n",
        "import matplotlib.pyplot as plt\n",
        "from wordcloud import WordCloud\n",
        "\n",
        "# Getting text from the user\n",
        "user_text = input(\"Please paste your text here: \")\n",
        "\n",
        "\n",
        "wordcloud = WordCloud(\n",
        "    background_color='white',\n",
        "    width=800,\n",
        "    height=800,\n",
        "    max_words=100\n",
        ").generate(user_text)\n",
        "\n",
        "plt.figure(figsize=(8, 8))\n",
        "plt.imshow(wordcloud, interpolation='bilinear')\n",
        "plt.axis('off')\n",
        "plt.show()"
      ],
      "metadata": {
        "id": "8bTu4E_2s0QB"
      },
      "execution_count": null,
      "outputs": []
    },
    {
      "cell_type": "markdown",
      "source": [
        "word cloud를 image로 저장하는 code"
      ],
      "metadata": {
        "id": "HKqEyye-st6J"
      }
    },
    {
      "cell_type": "code",
      "execution_count": null,
      "metadata": {
        "id": "8_tJ0Na3qmPL"
      },
      "outputs": [],
      "source": [
        "plt.savefig(\"wordcloud.png\")\n",
        "print(\"Word cloud image saved as 'wordcloud.png'\")"
      ]
    }
  ]
}