{
  "nbformat": 4,
  "nbformat_minor": 0,
  "metadata": {
    "colab": {
      "provenance": [],
      "authorship_tag": "ABX9TyO/cuhnRqXNYKi3IsqC5yGt",
      "include_colab_link": true
    },
    "kernelspec": {
      "name": "python3",
      "display_name": "Python 3"
    },
    "language_info": {
      "name": "python"
    }
  },
  "cells": [
    {
      "cell_type": "markdown",
      "metadata": {
        "id": "view-in-github",
        "colab_type": "text"
      },
      "source": [
        "<a href=\"https://colab.research.google.com/github/upsky-329/DL23/blob/main/DL/DWL07B_OSM.ipynb\" target=\"_parent\"><img src=\"https://colab.research.google.com/assets/colab-badge.svg\" alt=\"Open In Colab\"/></a>"
      ]
    },
    {
      "cell_type": "markdown",
      "source": [
        "# DLW07B Self-test\n",
        "\n",
        "+ strting: A string is a sequence of characters, such as letters, numbers, and symbols, that are treated as a single data type.\n",
        "+ integer: A data type that represents"
      ],
      "metadata": {
        "id": "tTTBv7BkerOu"
      }
    },
    {
      "cell_type": "markdown",
      "source": [
        "Exercise 1"
      ],
      "metadata": {
        "id": "QnVnf72WgZ7A"
      }
    },
    {
      "cell_type": "code",
      "execution_count": 2,
      "metadata": {
        "id": "btuJ_sD8d1qt"
      },
      "outputs": [],
      "source": [
        "greeting='Hello, students!'\n",
        "year=2023"
      ]
    },
    {
      "cell_type": "markdown",
      "source": [
        "Exercise 2"
      ],
      "metadata": {
        "id": "39MddnPkgZkr"
      }
    },
    {
      "cell_type": "markdown",
      "source": [],
      "metadata": {
        "id": "4nD1G9ISgkI0"
      }
    },
    {
      "cell_type": "code",
      "source": [
        "print(greeting)\n",
        "print(year)"
      ],
      "metadata": {
        "colab": {
          "base_uri": "https://localhost:8080/"
        },
        "id": "r-P1jAkbgP9F",
        "outputId": "a9db4d19-ac89-47aa-b4f1-ac4e5d1366fa"
      },
      "execution_count": 3,
      "outputs": [
        {
          "output_type": "stream",
          "name": "stdout",
          "text": [
            "Hello, students!\n",
            "2023\n"
          ]
        }
      ]
    },
    {
      "cell_type": "markdown",
      "source": [
        "Exercise 3"
      ],
      "metadata": {
        "id": "_WuahzCJg0Fa"
      }
    },
    {
      "cell_type": "code",
      "source": [
        "message=greeting+' '+str(year)\n",
        "message"
      ],
      "metadata": {
        "colab": {
          "base_uri": "https://localhost:8080/",
          "height": 38
        },
        "id": "2ywFB9fAgkYe",
        "outputId": "59146e99-577d-4900-8f49-4840c1994ba0"
      },
      "execution_count": 5,
      "outputs": [
        {
          "output_type": "execute_result",
          "data": {
            "text/plain": [
              "'Hello, students! 2023'"
            ],
            "application/vnd.google.colaboratory.intrinsic+json": {
              "type": "string"
            }
          },
          "metadata": {},
          "execution_count": 5
        }
      ]
    },
    {
      "cell_type": "markdown",
      "source": [
        "Exercise 4"
      ],
      "metadata": {
        "id": "Cdou6sGhg4Uy"
      }
    },
    {
      "cell_type": "code",
      "source": [
        "num1=10\n",
        "num2=3\n",
        "print(num1+num2)\n",
        "print(num1-num2)\n",
        "print(num1*num2)\n",
        "print(num1/num2)"
      ],
      "metadata": {
        "colab": {
          "base_uri": "https://localhost:8080/"
        },
        "id": "cR_r6Mz9g9VW",
        "outputId": "a8360b49-88c4-46c6-cd3e-47b85c6bfb95"
      },
      "execution_count": 6,
      "outputs": [
        {
          "output_type": "stream",
          "name": "stdout",
          "text": [
            "13\n",
            "7\n",
            "30\n",
            "3.3333333333333335\n"
          ]
        }
      ]
    },
    {
      "cell_type": "markdown",
      "source": [
        "Exercise 5"
      ],
      "metadata": {
        "id": "OEUcs9Y9hFSr"
      }
    },
    {
      "cell_type": "code",
      "source": [
        "user_string=input()"
      ],
      "metadata": {
        "id": "A8DdJDX9jNjq"
      },
      "execution_count": null,
      "outputs": []
    },
    {
      "cell_type": "code",
      "source": [
        "print(user_string)"
      ],
      "metadata": {
        "colab": {
          "base_uri": "https://localhost:8080/"
        },
        "id": "G6CVP1ufhug1",
        "outputId": "7ded04c6-5034-49ce-fd9a-adf0aa8a93f5"
      },
      "execution_count": 8,
      "outputs": [
        {
          "output_type": "stream",
          "name": "stdout",
          "text": [
            "5\n"
          ]
        }
      ]
    },
    {
      "cell_type": "code",
      "source": [
        "user_number=input('type any number: ')"
      ],
      "metadata": {
        "id": "5BW9JTrpig6S"
      },
      "execution_count": null,
      "outputs": []
    },
    {
      "cell_type": "code",
      "source": [
        "user_string=input('type any string: ')\n",
        "user_number=input('type any number: ') #input() is basically string.\n",
        "user_number=int(user_number) # string is integer\n",
        "\n",
        "user_string*user_number"
      ],
      "metadata": {
        "id": "6POCfmhahz0K"
      },
      "execution_count": null,
      "outputs": []
    },
    {
      "cell_type": "code",
      "source": [
        "a=int(user_number)\n",
        "type(a)"
      ],
      "metadata": {
        "id": "OZ74JBPWixbT"
      },
      "execution_count": null,
      "outputs": []
    },
    {
      "cell_type": "markdown",
      "source": [
        "Exercise 6"
      ],
      "metadata": {
        "id": "iz7iKkLthXRX"
      }
    },
    {
      "cell_type": "code",
      "source": [
        "sentence = \"Coding is fun and easy to learn!\"\n",
        "\n",
        "word_list=sentence.split()\n",
        "print(word_list)"
      ],
      "metadata": {
        "id": "e_9s7raohZYW"
      },
      "execution_count": null,
      "outputs": []
    },
    {
      "cell_type": "code",
      "source": [
        "type(sentence.split())"
      ],
      "metadata": {
        "id": "ReERdB30j19d"
      },
      "execution_count": null,
      "outputs": []
    },
    {
      "cell_type": "markdown",
      "source": [
        "Exercise 7"
      ],
      "metadata": {
        "id": "oow8PEw4hfrJ"
      }
    },
    {
      "cell_type": "code",
      "source": [
        "a=\"Coding is Exciting!\"\n",
        "\n",
        "uppercase_text=a.upper()\n",
        "lowercase_text=a.lower()\n",
        "lowercase_text"
      ],
      "metadata": {
        "id": "7-ZwlP42kIZ3"
      },
      "execution_count": null,
      "outputs": []
    },
    {
      "cell_type": "markdown",
      "source": [
        "Exercise 8"
      ],
      "metadata": {
        "id": "0ZO3T1sej1HS"
      }
    },
    {
      "cell_type": "code",
      "source": [
        "quote = \"To be or not to be, that is the question.\""
      ],
      "metadata": {
        "id": "XkzaXzyrjztY"
      },
      "execution_count": null,
      "outputs": []
    },
    {
      "cell_type": "code",
      "source": [
        "quote[0]"
      ],
      "metadata": {
        "id": "mDj1iQmDlGuU"
      },
      "execution_count": null,
      "outputs": []
    },
    {
      "cell_type": "code",
      "source": [
        "quote[-1]"
      ],
      "metadata": {
        "id": "JkBdyLeDlKbn"
      },
      "execution_count": null,
      "outputs": []
    },
    {
      "cell_type": "code",
      "source": [
        "quote[0:5]"
      ],
      "metadata": {
        "id": "x3Rz4-fZlKLE"
      },
      "execution_count": null,
      "outputs": []
    },
    {
      "cell_type": "code",
      "source": [
        "quote[5:]"
      ],
      "metadata": {
        "id": "hNHSkUvClXw9"
      },
      "execution_count": null,
      "outputs": []
    },
    {
      "cell_type": "code",
      "source": [
        "reverse=quote[::-1]\n",
        "print(reverse)"
      ],
      "metadata": {
        "id": "xBIl6RYSlXhk"
      },
      "execution_count": null,
      "outputs": []
    }
  ]
}