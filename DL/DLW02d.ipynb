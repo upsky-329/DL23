{
  "nbformat": 4,
  "nbformat_minor": 0,
  "metadata": {
    "colab": {
      "provenance": [],
      "include_colab_link": true
    },
    "kernelspec": {
      "name": "python3",
      "display_name": "Python 3"
    },
    "language_info": {
      "name": "python"
    }
  },
  "cells": [
    {
      "cell_type": "markdown",
      "metadata": {
        "id": "view-in-github",
        "colab_type": "text"
      },
      "source": [
        "<a href=\"https://colab.research.google.com/github/upsky-329/DL23/blob/main/DL/DLW02d.ipynb\" target=\"_parent\"><img src=\"https://colab.research.google.com/assets/colab-badge.svg\" alt=\"Open In Colab\"/></a>"
      ]
    },
    {
      "cell_type": "markdown",
      "source": [
        "---\n",
        "# 📗 Topic [2]: Coding basic #2\n",
        "---\n",
        "Keywords:\n",
        "\n",
        "+ variables\n",
        "+ **operators**\n",
        "+ **data types: list and dictionary**"
      ],
      "metadata": {
        "id": "k4A5_MYHpcNQ"
      }
    },
    {
      "cell_type": "markdown",
      "source": [
        "Your github IDs [here](https://docs.google.com/spreadsheets/d/17SX51lCqOdtvC7cAGoX5tP9fKwVdGY5sRzMg2pXh9uk/edit#gid=0) - revised 0327"
      ],
      "metadata": {
        "id": "mUVgzk50XMkt"
      }
    },
    {
      "cell_type": "markdown",
      "source": [
        "## [1] Variables"
      ],
      "metadata": {
        "id": "93gQaEo1RX63"
      }
    },
    {
      "cell_type": "markdown",
      "source": [
        "+ **A variable** is a named storage location that holds a value.\n",
        "+ Variables can be used **to store values** such as numbers, strings, lists, or other data types. \n",
        "+ The value of a variable can change throughout the execution of a program. \n",
        "+ To declare a variable in Python, you need to assign a value to it using the **equal (=) sign.**"
      ],
      "metadata": {
        "id": "jJT4hD1teuJr"
      }
    },
    {
      "cell_type": "code",
      "source": [
        "x = 10\n",
        "y = \"Hello, class!\"\n",
        "z = [1, 2, 3]"
      ],
      "metadata": {
        "id": "Xes87bY2X45M"
      },
      "execution_count": 2,
      "outputs": []
    },
    {
      "cell_type": "markdown",
      "source": [
        "↗️ In the above example, 'x' is assigned the value of 10, 'y' is assigned the value of \"Hello, World!\", and 'z' is assigned the value of [1, 2, 3]."
      ],
      "metadata": {
        "id": "ulw6QsP5ZiKp"
      }
    },
    {
      "cell_type": "code",
      "source": [
        "# We can assign a link or a function\n",
        "import pandas as pd\n",
        "url = \"https://github.com/MK316/Spring2023/raw/main/data/att_sample.csv\"\n",
        "data = pd.read_csv(url)\n",
        "data"
      ],
      "metadata": {
        "id": "_7bvpJt2aQmg",
        "outputId": "cd4fadf2-73e5-4220-b249-eb622af23223",
        "colab": {
          "base_uri": "https://localhost:8080/",
          "height": 488
        }
      },
      "execution_count": 3,
      "outputs": [
        {
          "output_type": "execute_result",
          "data": {
            "text/plain": [
              "      Names\n",
              "0      Mary\n",
              "1      John\n",
              "2       Tim\n",
              "3       Bob\n",
              "4     Sarah\n",
              "5      Kate\n",
              "6     Marie\n",
              "7   Johnson\n",
              "8      Mike\n",
              "9     Harry\n",
              "10      Jin\n",
              "11      Sam\n",
              "12     Paul\n",
              "13  Natalie"
            ],
            "text/html": [
              "\n",
              "  <div id=\"df-13457b88-ec83-44a8-af08-c078c3af9a63\">\n",
              "    <div class=\"colab-df-container\">\n",
              "      <div>\n",
              "<style scoped>\n",
              "    .dataframe tbody tr th:only-of-type {\n",
              "        vertical-align: middle;\n",
              "    }\n",
              "\n",
              "    .dataframe tbody tr th {\n",
              "        vertical-align: top;\n",
              "    }\n",
              "\n",
              "    .dataframe thead th {\n",
              "        text-align: right;\n",
              "    }\n",
              "</style>\n",
              "<table border=\"1\" class=\"dataframe\">\n",
              "  <thead>\n",
              "    <tr style=\"text-align: right;\">\n",
              "      <th></th>\n",
              "      <th>Names</th>\n",
              "    </tr>\n",
              "  </thead>\n",
              "  <tbody>\n",
              "    <tr>\n",
              "      <th>0</th>\n",
              "      <td>Mary</td>\n",
              "    </tr>\n",
              "    <tr>\n",
              "      <th>1</th>\n",
              "      <td>John</td>\n",
              "    </tr>\n",
              "    <tr>\n",
              "      <th>2</th>\n",
              "      <td>Tim</td>\n",
              "    </tr>\n",
              "    <tr>\n",
              "      <th>3</th>\n",
              "      <td>Bob</td>\n",
              "    </tr>\n",
              "    <tr>\n",
              "      <th>4</th>\n",
              "      <td>Sarah</td>\n",
              "    </tr>\n",
              "    <tr>\n",
              "      <th>5</th>\n",
              "      <td>Kate</td>\n",
              "    </tr>\n",
              "    <tr>\n",
              "      <th>6</th>\n",
              "      <td>Marie</td>\n",
              "    </tr>\n",
              "    <tr>\n",
              "      <th>7</th>\n",
              "      <td>Johnson</td>\n",
              "    </tr>\n",
              "    <tr>\n",
              "      <th>8</th>\n",
              "      <td>Mike</td>\n",
              "    </tr>\n",
              "    <tr>\n",
              "      <th>9</th>\n",
              "      <td>Harry</td>\n",
              "    </tr>\n",
              "    <tr>\n",
              "      <th>10</th>\n",
              "      <td>Jin</td>\n",
              "    </tr>\n",
              "    <tr>\n",
              "      <th>11</th>\n",
              "      <td>Sam</td>\n",
              "    </tr>\n",
              "    <tr>\n",
              "      <th>12</th>\n",
              "      <td>Paul</td>\n",
              "    </tr>\n",
              "    <tr>\n",
              "      <th>13</th>\n",
              "      <td>Natalie</td>\n",
              "    </tr>\n",
              "  </tbody>\n",
              "</table>\n",
              "</div>\n",
              "      <button class=\"colab-df-convert\" onclick=\"convertToInteractive('df-13457b88-ec83-44a8-af08-c078c3af9a63')\"\n",
              "              title=\"Convert this dataframe to an interactive table.\"\n",
              "              style=\"display:none;\">\n",
              "        \n",
              "  <svg xmlns=\"http://www.w3.org/2000/svg\" height=\"24px\"viewBox=\"0 0 24 24\"\n",
              "       width=\"24px\">\n",
              "    <path d=\"M0 0h24v24H0V0z\" fill=\"none\"/>\n",
              "    <path d=\"M18.56 5.44l.94 2.06.94-2.06 2.06-.94-2.06-.94-.94-2.06-.94 2.06-2.06.94zm-11 1L8.5 8.5l.94-2.06 2.06-.94-2.06-.94L8.5 2.5l-.94 2.06-2.06.94zm10 10l.94 2.06.94-2.06 2.06-.94-2.06-.94-.94-2.06-.94 2.06-2.06.94z\"/><path d=\"M17.41 7.96l-1.37-1.37c-.4-.4-.92-.59-1.43-.59-.52 0-1.04.2-1.43.59L10.3 9.45l-7.72 7.72c-.78.78-.78 2.05 0 2.83L4 21.41c.39.39.9.59 1.41.59.51 0 1.02-.2 1.41-.59l7.78-7.78 2.81-2.81c.8-.78.8-2.07 0-2.86zM5.41 20L4 18.59l7.72-7.72 1.47 1.35L5.41 20z\"/>\n",
              "  </svg>\n",
              "      </button>\n",
              "      \n",
              "  <style>\n",
              "    .colab-df-container {\n",
              "      display:flex;\n",
              "      flex-wrap:wrap;\n",
              "      gap: 12px;\n",
              "    }\n",
              "\n",
              "    .colab-df-convert {\n",
              "      background-color: #E8F0FE;\n",
              "      border: none;\n",
              "      border-radius: 50%;\n",
              "      cursor: pointer;\n",
              "      display: none;\n",
              "      fill: #1967D2;\n",
              "      height: 32px;\n",
              "      padding: 0 0 0 0;\n",
              "      width: 32px;\n",
              "    }\n",
              "\n",
              "    .colab-df-convert:hover {\n",
              "      background-color: #E2EBFA;\n",
              "      box-shadow: 0px 1px 2px rgba(60, 64, 67, 0.3), 0px 1px 3px 1px rgba(60, 64, 67, 0.15);\n",
              "      fill: #174EA6;\n",
              "    }\n",
              "\n",
              "    [theme=dark] .colab-df-convert {\n",
              "      background-color: #3B4455;\n",
              "      fill: #D2E3FC;\n",
              "    }\n",
              "\n",
              "    [theme=dark] .colab-df-convert:hover {\n",
              "      background-color: #434B5C;\n",
              "      box-shadow: 0px 1px 3px 1px rgba(0, 0, 0, 0.15);\n",
              "      filter: drop-shadow(0px 1px 2px rgba(0, 0, 0, 0.3));\n",
              "      fill: #FFFFFF;\n",
              "    }\n",
              "  </style>\n",
              "\n",
              "      <script>\n",
              "        const buttonEl =\n",
              "          document.querySelector('#df-13457b88-ec83-44a8-af08-c078c3af9a63 button.colab-df-convert');\n",
              "        buttonEl.style.display =\n",
              "          google.colab.kernel.accessAllowed ? 'block' : 'none';\n",
              "\n",
              "        async function convertToInteractive(key) {\n",
              "          const element = document.querySelector('#df-13457b88-ec83-44a8-af08-c078c3af9a63');\n",
              "          const dataTable =\n",
              "            await google.colab.kernel.invokeFunction('convertToInteractive',\n",
              "                                                     [key], {});\n",
              "          if (!dataTable) return;\n",
              "\n",
              "          const docLinkHtml = 'Like what you see? Visit the ' +\n",
              "            '<a target=\"_blank\" href=https://colab.research.google.com/notebooks/data_table.ipynb>data table notebook</a>'\n",
              "            + ' to learn more about interactive tables.';\n",
              "          element.innerHTML = '';\n",
              "          dataTable['output_type'] = 'display_data';\n",
              "          await google.colab.output.renderOutput(dataTable, element);\n",
              "          const docLink = document.createElement('div');\n",
              "          docLink.innerHTML = docLinkHtml;\n",
              "          element.appendChild(docLink);\n",
              "        }\n",
              "      </script>\n",
              "    </div>\n",
              "  </div>\n",
              "  "
            ]
          },
          "metadata": {},
          "execution_count": 3
        }
      ]
    },
    {
      "cell_type": "markdown",
      "source": [
        "변수=x, x를 간단하게 정의/read_csv 읽어주는 것\n"
      ],
      "metadata": {
        "id": "vTjXkOPsVJoR"
      }
    },
    {
      "cell_type": "markdown",
      "source": [
        "## Commenting '#'\n",
        "\n",
        "- In Python, the # symbol is used to indicate comment lines. A comment is a line of text in a code that is ignored by the Python interpreter and is used to provide explanations or notes for the reader of the code.\n",
        "\n",
        "## Uncommenting shortcut: \n",
        "* \"Ctrl + /\" (Place the cursor on the code line and press the Control + / key.)"
      ],
      "metadata": {
        "id": "xZv9R8I8ZWvt"
      }
    },
    {
      "cell_type": "code",
      "source": [
        "# This is a comment in Python\n",
        "x = 10 # this is also a comment"
      ],
      "metadata": {
        "id": "7UJmbmmTaFx9"
      },
      "execution_count": 4,
      "outputs": []
    },
    {
      "cell_type": "markdown",
      "source": [
        "comment 위에 커서를 올려두고 ctrl+/ 하면 #가 됨됨"
      ],
      "metadata": {
        "id": "PJKbEiR3Vdmg"
      }
    },
    {
      "cell_type": "code",
      "source": [
        "x1 = x * 10\n",
        "x2 = x + 5\n",
        "\n",
        "#print(x1) # Print the value of x1\n",
        "# print(x1, x2) # Print the values of x1 and x2"
      ],
      "metadata": {
        "id": "Ivc72tB0X_TS"
      },
      "execution_count": 10,
      "outputs": []
    },
    {
      "cell_type": "markdown",
      "source": [
        "print()를 하면 결과 공개 가능\n",
        "\n"
      ],
      "metadata": {
        "id": "UIplwh1XWFK5"
      }
    },
    {
      "cell_type": "code",
      "source": [
        "print(y)\n",
        "y1 = y + \"Welcome to the class.\"\n",
        "z1 = 10 + x1\n",
        "\n",
        "x='Rui '\n",
        "y='come home.'\n",
        "z1=x+y\n",
        " \n",
        "print(z1)"
      ],
      "metadata": {
        "id": "cxePqv-52RU0",
        "outputId": "27b98eb9-ccf8-4aec-9b5a-09953e7cec44",
        "colab": {
          "base_uri": "https://localhost:8080/"
        }
      },
      "execution_count": 11,
      "outputs": [
        {
          "output_type": "stream",
          "name": "stdout",
          "text": [
            "Hello, class!\n",
            "Rui come home.\n"
          ]
        }
      ]
    },
    {
      "cell_type": "markdown",
      "source": [
        "Input types:\n",
        "\n",
        "* integer: e.g., -3, 1, 0, 234, etc.\n",
        "* float: e.g., -3.0, 1.2, 0, 3.141592653589793238, etc.\n",
        "* string: (characters) \"1\", '0', \"3.29\", \"Mary\", \"euphoria\", 'My name is Jane.'\n",
        "\n",
        "_Note:_ double or single quotation marks denote **string** data. (Open and close should match.)"
      ],
      "metadata": {
        "id": "4zDbyBHbeQsq"
      }
    },
    {
      "cell_type": "code",
      "source": [
        "# DIY\n",
        "x = 1\n",
        "y = 3\n",
        "z = x + y\n",
        "print(z)\n",
        "\n",
        "x1 = \"1\"\n",
        "y1 = \"3\"\n",
        "z1 = x1 + y1\n",
        "print(z1)\n",
        "\n",
        "w=1.3\n",
        "print(w)"
      ],
      "metadata": {
        "colab": {
          "base_uri": "https://localhost:8080/"
        },
        "id": "yzZuC29QfP3T",
        "outputId": "290a152c-9104-41e3-94b7-27dc60fd543e"
      },
      "execution_count": 20,
      "outputs": [
        {
          "output_type": "stream",
          "name": "stdout",
          "text": [
            "4\n",
            "13\n",
            "1.3\n"
          ]
        }
      ]
    },
    {
      "cell_type": "code",
      "source": [
        "type(w)"
      ],
      "metadata": {
        "colab": {
          "base_uri": "https://localhost:8080/"
        },
        "id": "qwDb8cf5fkKi",
        "outputId": "037ff03b-3402-4aff-91ad-3af86e3ce0a1"
      },
      "execution_count": 21,
      "outputs": [
        {
          "output_type": "execute_result",
          "data": {
            "text/plain": [
              "float"
            ]
          },
          "metadata": {},
          "execution_count": 21
        }
      ]
    },
    {
      "cell_type": "markdown",
      "source": [
        "type()안의 결과가 무엇인지\n",
        "int 숫자 float 소수 str 문자열"
      ],
      "metadata": {
        "id": "IBlZfsuTXiLg"
      }
    },
    {
      "cell_type": "code",
      "source": [
        "type(z1)"
      ],
      "metadata": {
        "colab": {
          "base_uri": "https://localhost:8080/"
        },
        "id": "L7sxvSaOfsOt",
        "outputId": "62e4b8a5-a285-420b-9e28-29a4aca9239d"
      },
      "execution_count": null,
      "outputs": [
        {
          "output_type": "execute_result",
          "data": {
            "text/plain": [
              "str"
            ]
          },
          "metadata": {},
          "execution_count": 21
        }
      ]
    },
    {
      "cell_type": "code",
      "source": [
        "print(type(z), type(z1))"
      ],
      "metadata": {
        "colab": {
          "base_uri": "https://localhost:8080/"
        },
        "id": "bbFaL_GWfwMH",
        "outputId": "ea60932c-1c19-4632-f4e7-b238f0f7ecf5"
      },
      "execution_count": 15,
      "outputs": [
        {
          "output_type": "stream",
          "name": "stdout",
          "text": [
            "<class 'int'> <class 'str'>\n"
          ]
        }
      ]
    },
    {
      "cell_type": "markdown",
      "source": [
        "## [2] Operators\n",
        "\n",
        "* Symbols that perform operations on values and variables. \n",
        "* They are used to perform arithmetic and logical operations, and they can also be used to manipulate and compare values. "
      ],
      "metadata": {
        "id": "5JgA2T2dRft5"
      }
    },
    {
      "cell_type": "markdown",
      "source": [
        "1. Arithmetic Operators: +, -, *, /, %, ** (for exponentiation)\n",
        "2. semicolon ';' - separate multiple statements (code lines) on a single line."
      ],
      "metadata": {
        "id": "NJBgu_O4bczL"
      }
    },
    {
      "cell_type": "code",
      "source": [
        "x = 2; y = 5\n",
        "\n",
        "a1 = x + y\n",
        "a2 = x - y\n",
        "a3 = x * y\n",
        "a4 = x / y\n",
        "a5 = x ** y"
      ],
      "metadata": {
        "id": "dXT3pIzobUHU"
      },
      "execution_count": 16,
      "outputs": []
    },
    {
      "cell_type": "code",
      "source": [
        "print(a1, a2, a3, a4, a5)"
      ],
      "metadata": {
        "colab": {
          "base_uri": "https://localhost:8080/"
        },
        "id": "_m3JBsOKd6Uv",
        "outputId": "ccb2f7fe-69cb-4867-9598-c9b6d6699d4e"
      },
      "execution_count": 17,
      "outputs": [
        {
          "output_type": "stream",
          "name": "stdout",
          "text": [
            "7 -3 10 0.4 32\n"
          ]
        }
      ]
    },
    {
      "cell_type": "code",
      "source": [
        "print(\"The value of a1:\", a1)"
      ],
      "metadata": {
        "colab": {
          "base_uri": "https://localhost:8080/"
        },
        "id": "5kq7I3nMd0Xi",
        "outputId": "284a40e0-a610-4130-aa2c-b444c8ddf598"
      },
      "execution_count": 18,
      "outputs": [
        {
          "output_type": "stream",
          "name": "stdout",
          "text": [
            "The value of a1: 7\n"
          ]
        }
      ]
    },
    {
      "cell_type": "markdown",
      "source": [
        "# 🌱 Define a function\n",
        "\n",
        "Demo 🔢 Calculator"
      ],
      "metadata": {
        "id": "Cx1NyWUAybc8"
      }
    },
    {
      "cell_type": "code",
      "source": [
        "# This function adds two numbers\n",
        "def add(x, y):\n",
        "    return x + y\n",
        "\n",
        "# This function subtracts two numbers\n",
        "def subtract(x, y):\n",
        "    return x - y\n",
        "\n",
        "# This function multiplies two numbers\n",
        "def multiply(x, y):\n",
        "    return x * y\n",
        "\n",
        "# This function divides two numbers\n",
        "def divide(x, y):\n",
        "    return x / y\n"
      ],
      "metadata": {
        "id": "Dod3_zgYdsWe"
      },
      "execution_count": 19,
      "outputs": []
    },
    {
      "cell_type": "markdown",
      "source": [
        "add 함수의 합 (a,b) 논항 def로 시작해서 :로 끝남\n",
        "return 결과값"
      ],
      "metadata": {
        "id": "MfCySzqLYaGx"
      }
    },
    {
      "cell_type": "code",
      "source": [
        "# DIY: define a function names switch(x, y), where the input x, y changes its position in the output.\n",
        "\n",
        "def switch(x,y):\n",
        "  return print (y,x)"
      ],
      "metadata": {
        "id": "W9CuAaqXgwb5"
      },
      "execution_count": 26,
      "outputs": []
    },
    {
      "cell_type": "code",
      "source": [
        "switch('it', 'is')"
      ],
      "metadata": {
        "id": "HLuymSbuaA6A",
        "outputId": "028dd28b-67a1-4532-de4e-28fa103c6f95",
        "colab": {
          "base_uri": "https://localhost:8080/"
        }
      },
      "execution_count": 29,
      "outputs": [
        {
          "output_type": "stream",
          "name": "stdout",
          "text": [
            "is it\n"
          ]
        }
      ]
    },
    {
      "cell_type": "markdown",
      "source": [
        "마우스를 자판 안에 두고 ctrl+enter하면 cell running"
      ],
      "metadata": {
        "id": "Xy5v10dSZ485"
      }
    },
    {
      "cell_type": "code",
      "source": [
        "add(1200,34)"
      ],
      "metadata": {
        "id": "br8NXBwtMpMI",
        "outputId": "d88d2188-4f31-4cd6-e713-afcb5d2a8458",
        "colab": {
          "base_uri": "https://localhost:8080/"
        }
      },
      "execution_count": 23,
      "outputs": [
        {
          "output_type": "execute_result",
          "data": {
            "text/plain": [
              "1234"
            ]
          },
          "metadata": {},
          "execution_count": 23
        }
      ]
    },
    {
      "cell_type": "code",
      "source": [
        "# Test\n",
        "\n",
        "add(2,3)\n",
        "subtract(3,2)\n",
        "multiply(2,3)\n",
        "divide(3,2)"
      ],
      "metadata": {
        "id": "IoHh-U2GBsqH",
        "outputId": "85c5892f-245a-4088-ac4b-e8ed31b88044",
        "colab": {
          "base_uri": "https://localhost:8080/"
        }
      },
      "execution_count": 24,
      "outputs": [
        {
          "output_type": "execute_result",
          "data": {
            "text/plain": [
              "1.5"
            ]
          },
          "metadata": {},
          "execution_count": 24
        }
      ]
    },
    {
      "cell_type": "markdown",
      "source": [
        "## Using dropbox format"
      ],
      "metadata": {
        "id": "eOluPoNqCCE1"
      }
    },
    {
      "cell_type": "code",
      "source": [
        "#@markdown 🔄 Making functions: tts('text')\n",
        "%%capture\n",
        "!pip install gTTS\n",
        "from gtts import gTTS\n",
        "from IPython.display import Audio\n",
        "\n",
        "def tts(text):\n",
        "  text_to_say = text\n",
        "\n",
        "  gtts_object = gTTS(text = text_to_say,\n",
        "                     lang = \"en\", tld = \"us\",\n",
        "                    slow = True)\n",
        "  \n",
        "  gtts_object.save(\"E-audio.mp3\")\n",
        "  return Audio(\"E-audio.mp3\")"
      ],
      "metadata": {
        "id": "nRtyN0p6NoKA"
      },
      "execution_count": 30,
      "outputs": []
    },
    {
      "cell_type": "code",
      "source": [
        "func = \"divide\" #@param = [\"add\",\"subtract\",\"multiply\",\"divide\"]\n",
        "digits = input(\"Type two numbers: (e.g., 3,4)\")\n",
        "digitsplit = digits.split(',')\n",
        "d1 = int(digitsplit[0])\n",
        "d2 = int(digitsplit[1])\n",
        "\n",
        "if func == \"add\":\n",
        "  result = add(d1,d2)\n",
        "  text = \"The addition of %d and %d equals %d.\"%(d1,d2,result)\n",
        "elif func == \"subtract\":\n",
        "  result = subtract(d1,d2)\n",
        "  text = \"If you subtract %d from %d, you get %d.\"%(d2,d1,result)\n",
        "elif func == \"divide\":\n",
        "  result = divide(d1,d2)\n",
        "  text = \"When you divide %d by %d, you get %d.\"%(d1,d2,result)\n",
        "elif func == \"multiply\":\n",
        "  result = multiply(d1,d2)\n",
        "  text = \"%d multiplied by %d is %d.\"%(d1,d2,result)\n",
        "\n",
        "print(text)\n",
        "tts(text)\n",
        "Audio(\"E-audio.mp3\", autoplay=True)"
      ],
      "metadata": {
        "id": "FT47bY6qBo3k",
        "outputId": "b3b0b666-428c-4aef-86c2-90082c447174",
        "colab": {
          "base_uri": "https://localhost:8080/",
          "height": 111
        }
      },
      "execution_count": 36,
      "outputs": [
        {
          "output_type": "stream",
          "name": "stdout",
          "text": [
            "Type two numbers: (e.g., 3,4)60,24\n",
            "When you divide 60 by 24, you get 2.\n"
          ]
        },
        {
          "output_type": "execute_result",
          "data": {
            "text/plain": [
              "<IPython.lib.display.Audio object>"
            ],
            "text/html": [
              "\n",
              "                <audio  controls=\"controls\" autoplay=\"autoplay\">\n",
              "                    <source src=\"data:audio/mpeg;base64,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\" type=\"audio/mpeg\" />\n",
              "                    Your browser does not support the audio element.\n",
              "                </audio>\n",
              "              "
            ]
          },
          "metadata": {},
          "execution_count": 36
        }
      ]
    },
    {
      "cell_type": "markdown",
      "source": [
        "Audio(\"E-audio.mp3\", autoplay=True)를 하면 자동으로 play되고 Audio(\"E-audio.mp3\")하면 직접 play해야함"
      ],
      "metadata": {
        "id": "hUTAa_6EbOnA"
      }
    },
    {
      "cell_type": "markdown",
      "source": [
        "More operators: <br>\n",
        "* Comparison Operators: ==, !=, <, >, <=, >= <br>\n",
        "* Assignment Operators: =, +=, -=, *=, /=, %= <br>\n",
        "* Logical Operators: and, or, not <br>\n",
        "* Identity Operators: is, is not <br>\n",
        "* Membership Operators: in, not in "
      ],
      "metadata": {
        "id": "sfubu24UbqjH"
      }
    },
    {
      "cell_type": "markdown",
      "source": [
        "# 📗Topic [3] Data types: number, string, list and dictionary\n"
      ],
      "metadata": {
        "id": "3eSrUoglRh6-"
      }
    },
    {
      "cell_type": "markdown",
      "source": [
        "\n",
        "|Data type| |\n",
        "|:--:|:--:|\n",
        "|number|int, float|\n",
        "|string|charcter|\n",
        "|list|[1, 2,4], ['Mary','Tom','Jane'|\n",
        "|dictionary|(key: value), [('English': 80), ('Korean':90)]|\n",
        "|tuple|('zero', 0)|\n"
      ],
      "metadata": {
        "id": "ZVFb5JmJrPXu"
      }
    },
    {
      "cell_type": "markdown",
      "source": [
        "number, string, list를 가장 많이 씀"
      ],
      "metadata": {
        "id": "YB_RuviBcAkY"
      }
    },
    {
      "cell_type": "code",
      "source": [
        "a1 = 3   # a1 is integer\n",
        "a2 = 3.0 # a2 is float\n",
        "a3 = \"3\" # a3 is string\n",
        "\n",
        "type(a1); type(a2); type(a3)\n",
        "# print(type(a1), type(a2), type(a3))"
      ],
      "metadata": {
        "colab": {
          "base_uri": "https://localhost:8080/"
        },
        "id": "g-kvldqENA1e",
        "outputId": "9d53e84c-ccee-4315-84d2-d716dc9f0d95"
      },
      "execution_count": 38,
      "outputs": [
        {
          "output_type": "execute_result",
          "data": {
            "text/plain": [
              "str"
            ]
          },
          "metadata": {},
          "execution_count": 38
        }
      ]
    },
    {
      "cell_type": "markdown",
      "source": [
        ";은 라인을 연결할 때 사용"
      ],
      "metadata": {
        "id": "Ld2Mh21ecJwf"
      }
    },
    {
      "cell_type": "markdown",
      "source": [
        "list and index (0, 1, 2,...)"
      ],
      "metadata": {
        "id": "HC_wMsPnNbzs"
      }
    },
    {
      "cell_type": "code",
      "source": [
        "a = [1, \"Mary\", 4, \"John\"]  # This is a list.\n",
        "print(type(a))\n",
        "\n",
        "# a+a"
      ],
      "metadata": {
        "colab": {
          "base_uri": "https://localhost:8080/"
        },
        "id": "LyTw7phONZHE",
        "outputId": "b730bf36-aa04-44b2-d028-2bf80e442146"
      },
      "execution_count": 42,
      "outputs": [
        {
          "output_type": "stream",
          "name": "stdout",
          "text": [
            "<class 'list'>\n"
          ]
        }
      ]
    },
    {
      "cell_type": "markdown",
      "source": [
        "* index: Python index starts from '0'\n",
        "\n",
        "e.g., a = [1, 2, 3, 4]"
      ],
      "metadata": {
        "id": "-fL-pJvj7NW8"
      }
    },
    {
      "cell_type": "code",
      "source": [
        "a[0]\n",
        "type(a[0])\n",
        "type(a[1])\n",
        "# a[0]+a[2]\n",
        "# a[0]+a[1]\n",
        "# int + str = error"
      ],
      "metadata": {
        "id": "9Z5zLDGc7X13",
        "outputId": "62ca051b-8cf8-4103-dd4a-a39ee19cfa90",
        "colab": {
          "base_uri": "https://localhost:8080/"
        }
      },
      "execution_count": 48,
      "outputs": [
        {
          "output_type": "execute_result",
          "data": {
            "text/plain": [
              "str"
            ]
          },
          "metadata": {},
          "execution_count": 48
        }
      ]
    },
    {
      "cell_type": "markdown",
      "source": [
        "[Github accounts](https://raw.githubusercontent.com/MK316/Spring2023/main/DL/files/DL_github.csv)"
      ],
      "metadata": {
        "id": "S-KG49Zaim0S"
      }
    },
    {
      "cell_type": "markdown",
      "source": [
        "\n",
        "\n",
        "---\n",
        "# The End\n"
      ],
      "metadata": {
        "id": "3cZjH9xIiN4_"
      }
    }
  ]
}