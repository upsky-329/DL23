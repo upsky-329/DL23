{
  "nbformat": 4,
  "nbformat_minor": 0,
  "metadata": {
    "colab": {
      "provenance": [],
      "include_colab_link": true
    },
    "kernelspec": {
      "name": "python3",
      "display_name": "Python 3"
    },
    "language_info": {
      "name": "python"
    }
  },
  "cells": [
    {
      "cell_type": "markdown",
      "metadata": {
        "id": "view-in-github",
        "colab_type": "text"
      },
      "source": [
        "<a href=\"https://colab.research.google.com/github/upsky-329/DL23/blob/main/DL/useful_tools_G0.ipynb\" target=\"_parent\"><img src=\"https://colab.research.google.com/assets/colab-badge.svg\" alt=\"Open In Colab\"/></a>"
      ]
    },
    {
      "cell_type": "markdown",
      "source": [
        "# Useful digital tools (2 videos) to share (by April 5, and 11)\n",
        "\n",
        "- Each group creates 2 introductory videos to introduce useful tools for English learners and future English teachers\n",
        "- Use Emoji from 💫[here](https://gist.github.com/rxaviers/7360908) if you need.\n",
        "- Save a copy in Github (file name: e.g., useful_tools_G1.ipynb)"
      ],
      "metadata": {
        "id": "-WudhQkbdW4p"
      }
    },
    {
      "cell_type": "markdown",
      "source": [
        "## Setting-ups"
      ],
      "metadata": {
        "id": "ZhvM1ULqdqte"
      }
    },
    {
      "cell_type": "code",
      "source": [
        "#@markdown 💠 Import libraries {Image, Audio, YouTubeVideo}\n",
        "from IPython.display import Image, Audio, YouTubeVideo"
      ],
      "metadata": {
        "cellView": "form",
        "id": "TPblYRDIWasG"
      },
      "execution_count": 1,
      "outputs": []
    },
    {
      "cell_type": "markdown",
      "source": [
        "# Group 1"
      ],
      "metadata": {
        "id": "8MKCXpN7dyPi"
      }
    },
    {
      "cell_type": "markdown",
      "source": [
        "## 🎬 Video [1]\n",
        "\n",
        "Once you created the first video, upload it on youtube, get the link, and replace the video ID below with yours\n",
        "\n",
        "e.g., \"bRlicxf8iJQ\" => \"your video id\"\n",
        "\n",
        "* Video ID is the string after \"v=\" in the example below:\n",
        "\n",
        "https://www.youtube.com/watch?v=cPBchPGf168"
      ],
      "metadata": {
        "id": "c7jVG8fWhtAS"
      }
    },
    {
      "cell_type": "code",
      "source": [
        "video = YouTubeVideo(\"u86x6iLGpD0\", width=500)\n",
        "display(video)"
      ],
      "metadata": {
        "id": "_AIwcjfbfeR7",
        "outputId": "e76de586-302e-4d96-a699-e1dc1628f6e7",
        "colab": {
          "base_uri": "https://localhost:8080/",
          "height": 320
        }
      },
      "execution_count": 3,
      "outputs": [
        {
          "output_type": "display_data",
          "data": {
            "text/plain": [
              "<IPython.lib.display.YouTubeVideo at 0x7f87e819faf0>"
            ],
            "text/html": [
              "\n",
              "        <iframe\n",
              "            width=\"500\"\n",
              "            height=\"300\"\n",
              "            src=\"https://www.youtube.com/embed/u86x6iLGpD0\"\n",
              "            frameborder=\"0\"\n",
              "            allowfullscreen\n",
              "            \n",
              "        ></iframe>\n",
              "        "
            ],
            "image/jpeg": "[encoded data removed]"
          },
          "metadata": {}
        }
      ]
    },
    {
      "cell_type": "markdown",
      "source": [
        "(Optional) And use the following for multiple images (from your Github account) if you want.\n",
        "\n",
        "You need to change the url links in the code below: Show code > change the url\n",
        "\n",
        "1. If the number of images are 2, change [1,2,3] > [1,2]\n",
        "2. Replace the image links (2 links keeping the same format)\n"
      ],
      "metadata": {
        "id": "-_rW89-ogPwG"
      }
    },
    {
      "cell_type": "code",
      "source": [
        "image_list = \"1\" #@param = [1,2,3]\n",
        "url_list = [\"https://raw.githubusercontent.com/user/repo/main/image.png\",\n",
        "            \"https://raw.githubusercontent.com/user/repo/main/image.png\",\n",
        "            \"https://raw.githubusercontent.com/user/repo/main/image.png\"]\n",
        "\n",
        "n = int(image_list)\n",
        "image_url = url_list[n]-1\n",
        "image = Image(url=image_url, width = 800, height = 600)\n",
        "display(image)"
      ],
      "metadata": {
        "cellView": "form",
        "id": "0v31AV2fekCU",
        "outputId": "15b02c3d-6b34-472c-e8d6-fdddbe325e1b",
        "colab": {
          "base_uri": "https://localhost:8080/",
          "height": 251
        }
      },
      "execution_count": 4,
      "outputs": [
        {
          "output_type": "error",
          "ename": "TypeError",
          "evalue": "ignored",
          "traceback": [
            "\u001b[0;31m---------------------------------------------------------------------------\u001b[0m",
            "\u001b[0;31mTypeError\u001b[0m                                 Traceback (most recent call last)",
            "\u001b[0;32m<ipython-input-4-2aa6115f125d>\u001b[0m in \u001b[0;36m<cell line: 7>\u001b[0;34m()\u001b[0m\n\u001b[1;32m      5\u001b[0m \u001b[0;34m\u001b[0m\u001b[0m\n\u001b[1;32m      6\u001b[0m \u001b[0mn\u001b[0m \u001b[0;34m=\u001b[0m \u001b[0mint\u001b[0m\u001b[0;34m(\u001b[0m\u001b[0mimage_list\u001b[0m\u001b[0;34m)\u001b[0m\u001b[0;34m\u001b[0m\u001b[0;34m\u001b[0m\u001b[0m\n\u001b[0;32m----> 7\u001b[0;31m \u001b[0mimage_url\u001b[0m \u001b[0;34m=\u001b[0m \u001b[0murl_list\u001b[0m\u001b[0;34m[\u001b[0m\u001b[0mn\u001b[0m\u001b[0;34m]\u001b[0m\u001b[0;34m-\u001b[0m\u001b[0;36m1\u001b[0m\u001b[0;34m\u001b[0m\u001b[0;34m\u001b[0m\u001b[0m\n\u001b[0m\u001b[1;32m      8\u001b[0m \u001b[0mimage\u001b[0m \u001b[0;34m=\u001b[0m \u001b[0mImage\u001b[0m\u001b[0;34m(\u001b[0m\u001b[0murl\u001b[0m\u001b[0;34m=\u001b[0m\u001b[0mimage_url\u001b[0m\u001b[0;34m,\u001b[0m \u001b[0mwidth\u001b[0m \u001b[0;34m=\u001b[0m \u001b[0;36m800\u001b[0m\u001b[0;34m,\u001b[0m \u001b[0mheight\u001b[0m \u001b[0;34m=\u001b[0m \u001b[0;36m600\u001b[0m\u001b[0;34m)\u001b[0m\u001b[0;34m\u001b[0m\u001b[0;34m\u001b[0m\u001b[0m\n\u001b[1;32m      9\u001b[0m \u001b[0mdisplay\u001b[0m\u001b[0;34m(\u001b[0m\u001b[0mimage\u001b[0m\u001b[0;34m)\u001b[0m\u001b[0;34m\u001b[0m\u001b[0;34m\u001b[0m\u001b[0m\n",
            "\u001b[0;31mTypeError\u001b[0m: unsupported operand type(s) for -: 'str' and 'int'"
          ]
        }
      ]
    },
    {
      "cell_type": "markdown",
      "source": [
        "Show video (from Youtube)"
      ],
      "metadata": {
        "id": "pXxj78zagWGe"
      }
    },
    {
      "cell_type": "code",
      "execution_count": 5,
      "metadata": {
        "id": "cszfbA2GcB44",
        "outputId": "f5ec5700-107a-4065-da46-f20fcd0ac37a",
        "colab": {
          "base_uri": "https://localhost:8080/",
          "height": 320
        }
      },
      "outputs": [
        {
          "output_type": "display_data",
          "data": {
            "text/plain": [
              "<IPython.lib.display.YouTubeVideo at 0x7f87e819f370>"
            ],
            "text/html": [
              "\n",
              "        <iframe\n",
              "            width=\"800\"\n",
              "            height=\"300\"\n",
              "            src=\"https://www.youtube.com/embed/ID\"\n",
              "            frameborder=\"0\"\n",
              "            allowfullscreen\n",
              "            \n",
              "        ></iframe>\n",
              "        "
            ]
          },
          "metadata": {}
        }
      ],
      "source": [
        "video = YouTubeVideo(\"ID\", width=800)\n",
        "display(video)"
      ]
    },
    {
      "cell_type": "markdown",
      "source": [
        "## 🎬 Video [2]\n",
        "\n",
        "Copy and paste necessary cells to do the same step from Video [1]"
      ],
      "metadata": {
        "id": "2AQCdbfHhvkY"
      }
    }
  ]
}
