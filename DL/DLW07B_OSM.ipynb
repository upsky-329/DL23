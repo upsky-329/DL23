{
  "nbformat": 4,
  "nbformat_minor": 0,
  "metadata": {
    "colab": {
      "provenance": [],
      "authorship_tag": "ABX9TyO/cuhnRqXNYKi3IsqC5yGt",
      "include_colab_link": true
    },
    "kernelspec": {
      "name": "python3",
      "display_name": "Python 3"
    },
    "language_info": {
      "name": "python"
    }
  },
  "cells": [
    {
      "cell_type": "markdown",
      "metadata": {
        "id": "view-in-github",
        "colab_type": "text"
      },
      "source": [
        "<a href=\"https://colab.research.google.com/github/upsky-329/DL23/blob/main/DL/DLW07B_OSM.ipynb\" target=\"_parent\"><img src=\"https://colab.research.google.com/assets/colab-badge.svg\" alt=\"Open In Colab\"/></a>"
      ]
    },
    {
      "cell_type": "markdown",
      "source": [
        "# DLW07B Self-test\n",
        "\n",
        "+ strting: A string is a sequence of characters, such as letters, numbers, and symbols, that are treated as a single data type.\n",
        "+ integer: A data type that represents"
      ],
      "metadata": {
        "id": "tTTBv7BkerOu"
      }
    },
    {
      "cell_type": "markdown",
      "source": [
        "Exercise 1"
      ],
      "metadata": {
        "id": "QnVnf72WgZ7A"
      }
    },
    {
      "cell_type": "code",
      "execution_count": 1,
      "metadata": {
        "id": "btuJ_sD8d1qt"
      },
      "outputs": [],
      "source": [
        "greeting='Hello, students!'\n",
        "year=2023"
      ]
    },
    {
      "cell_type": "markdown",
      "source": [
        "Exercise 2"
      ],
      "metadata": {
        "id": "39MddnPkgZkr"
      }
    },
    {
      "cell_type": "markdown",
      "source": [],
      "metadata": {
        "id": "4nD1G9ISgkI0"
      }
    },
    {
      "cell_type": "code",
      "source": [
        "print(greeting)\n",
        "print(year)"
      ],
      "metadata": {
        "colab": {
          "base_uri": "https://localhost:8080/"
        },
        "id": "r-P1jAkbgP9F",
        "outputId": "3c8d0011-0dec-424e-cf8e-edf42cc309c2"
      },
      "execution_count": 2,
      "outputs": [
        {
          "output_type": "stream",
          "name": "stdout",
          "text": [
            "Hello, students!\n",
            "2023\n"
          ]
        }
      ]
    },
    {
      "cell_type": "markdown",
      "source": [
        "Exercise 3"
      ],
      "metadata": {
        "id": "_WuahzCJg0Fa"
      }
    },
    {
      "cell_type": "code",
      "source": [
        "message=greeting+' '+str(year)\n",
        "message"
      ],
      "metadata": {
        "colab": {
          "base_uri": "https://localhost:8080/",
          "height": 38
        },
        "id": "2ywFB9fAgkYe",
        "outputId": "4d390dc5-3928-4cf8-b7c9-cd2498eec98c"
      },
      "execution_count": 3,
      "outputs": [
        {
          "output_type": "execute_result",
          "data": {
            "text/plain": [
              "'Hello, students! 2023'"
            ],
            "application/vnd.google.colaboratory.intrinsic+json": {
              "type": "string"
            }
          },
          "metadata": {},
          "execution_count": 3
        }
      ]
    },
    {
      "cell_type": "markdown",
      "source": [
        "Exercise 4"
      ],
      "metadata": {
        "id": "Cdou6sGhg4Uy"
      }
    },
    {
      "cell_type": "code",
      "source": [
        "num1=10\n",
        "num2=3\n",
        "print(num1+num2)\n",
        "print(num1-num2)\n",
        "print(num1*num2)\n",
        "print(num1/num2)"
      ],
      "metadata": {
        "colab": {
          "base_uri": "https://localhost:8080/"
        },
        "id": "cR_r6Mz9g9VW",
        "outputId": "5cde4e6f-3fb4-4881-ca4b-f9c2c6991ad8"
      },
      "execution_count": 4,
      "outputs": [
        {
          "output_type": "stream",
          "name": "stdout",
          "text": [
            "13\n",
            "7\n",
            "30\n",
            "3.3333333333333335\n"
          ]
        }
      ]
    },
    {
      "cell_type": "markdown",
      "source": [
        "Exercise 5"
      ],
      "metadata": {
        "id": "OEUcs9Y9hFSr"
      }
    },
    {
      "cell_type": "code",
      "source": [
        "user_string=input()"
      ],
      "metadata": {
        "id": "A8DdJDX9jNjq",
        "outputId": "44ceb391-acea-49f1-9950-585591f86250",
        "colab": {
          "base_uri": "https://localhost:8080/"
        }
      },
      "execution_count": 6,
      "outputs": [
        {
          "name": "stdout",
          "output_type": "stream",
          "text": [
            "Mary\n"
          ]
        }
      ]
    },
    {
      "cell_type": "code",
      "source": [
        "print(user_string)"
      ],
      "metadata": {
        "colab": {
          "base_uri": "https://localhost:8080/"
        },
        "id": "G6CVP1ufhug1",
        "outputId": "5a08279f-2f58-4f07-d920-88865d78ed93"
      },
      "execution_count": 7,
      "outputs": [
        {
          "output_type": "stream",
          "name": "stdout",
          "text": [
            "Mary\n"
          ]
        }
      ]
    },
    {
      "cell_type": "code",
      "source": [
        "user_number=input('type any number: ')"
      ],
      "metadata": {
        "id": "5BW9JTrpig6S",
        "outputId": "ecd34ab0-1f7f-401a-d8c2-6898b100e09b",
        "colab": {
          "base_uri": "https://localhost:8080/"
        }
      },
      "execution_count": 8,
      "outputs": [
        {
          "name": "stdout",
          "output_type": "stream",
          "text": [
            "type any number: 25\n"
          ]
        }
      ]
    },
    {
      "cell_type": "code",
      "source": [
        "user_string=input('type any string: ')\n",
        "user_number=input('type any number: ') #input() is basically string.\n",
        "user_number=int(user_number) # string is integer\n",
        "\n",
        "user_string*user_number"
      ],
      "metadata": {
        "id": "6POCfmhahz0K",
        "outputId": "c28392db-db1f-40fd-fff5-6a99f70d5675",
        "colab": {
          "base_uri": "https://localhost:8080/",
          "height": 219
        }
      },
      "execution_count": 9,
      "outputs": [
        {
          "name": "stdout",
          "output_type": "stream",
          "text": [
            "type any string: Marry\n",
            "type any number: 1225\n"
          ]
        },
        {
          "output_type": "execute_result",
          "data": {
            "text/plain": [
              "'MarryMarryMarryMarryMarryMarryMarryMarryMarryMarryMarryMarryMarryMarryMarryMarryMarryMarryMarryMarryMarryMarryMarryMarryMarryMarryMarryMarryMarryMarryMarryMarryMarryMarryMarryMarryMarryMarryMarryMarryMarryMarryMarryMarryMarryMarryMarryMarryMarryMarryMarryMarryMarryMarryMarryMarryMarryMarryMarryMarryMarryMarryMarryMarryMarryMarryMarryMarryMarryMarryMarryMarryMarryMarryMarryMarryMarryMarryMarryMarryMarryMarryMarryMarryMarryMarryMarryMarryMarryMarryMarryMarryMarryMarryMarryMarryMarryMarryMarryMarryMarryMarryMarryMarryMarryMarryMarryMarryMarryMarryMarryMarryMarryMarryMarryMarryMarryMarryMarryMarryMarryMarryMarryMarryMarryMarryMarryMarryMarryMarryMarryMarryMarryMarryMarryMarryMarryMarryMarryMarryMarryMarryMarryMarryMarryMarryMarryMarryMarryMarryMarryMarryMarryMarryMarryMarryMarryMarryMarryMarryMarryMarryMarryMarryMarryMarryMarryMarryMarryMarryMarryMarryMarryMarryMarryMarryMarryMarryMarryMarryMarryMarryMarryMarryMarryMarryMarryMarryMarryMarryMarryMarryMarryMarryMarryMarryMarryMarryMarryMarryMarryMarryMarryMarryMarryMarryMarryMarryMarryMarryMarryMarryMarryMarryMarryMarryMarryMarryMarryMarryMarryMarryMarryMarryMarryMarryMarryMarryMarryMarryMarryMarryMarryMarryMarryMarryMarryMarryMarryMarryMarryMarryMarryMarryMarryMarryMarryMarryMarryMarryMarryMarryMarryMarryMarryMarryMarryMarryMarryMarryMarryMarryMarryMarryMarryMarryMarryMarryMarryMarryMarryMarryMarryMarryMarryMarryMarryMarryMarryMarryMarryMarryMarryMarryMarryMarryMarryMarryMarryMarryMarryMarryMarryMarryMarryMarryMarryMarryMarryMarryMarryMarryMarryMarryMarryMarryMarryMarryMarryMarryMarryMarryMarryMarryMarryMarryMarryMarryMarryMarryMarryMarryMarryMarryMarryMarryMarryMarryMarryMarryMarryMarryMarryMarryMarryMarryMarryMarryMarryMarryMarryMarryMarryMarryMarryMarryMarryMarryMarryMarryMarryMarryMarryMarryMarryMarryMarryMarryMarryMarryMarryMarryMarryMarryMarryMarryMarryMarryMarryMarryMarryMarryMarryMarryMarryMarryMarryMarryMarryMarryMarryMarryMarryMarryMarryMarryMarryMarryMarryMarryMarryMarryMarryMarryMarryMarryMarryMarryMarryMarryMarryMarryMarryMarryMarryMarryMarryMarryMarryMarryMarryMarryMarryMarryMarryMarryMarryMarryMarryMarryMarryMarryMarryMarryMarryMarryMarryMarryMarryMarryMarryMarryMarryMarryMarryMarryMarryMarryMarryMarryMarryMarryMarryMarryMarryMarryMarryMarryMarryMarryMarryMarryMarryMarryMarryMarryMarryMarryMarryMarryMarryMarryMarryMarryMarryMarryMarryMarryMarryMarryMarryMarryMarryMarryMarryMarryMarryMarryMarryMarryMarryMarryMarryMarryMarryMarryMarryMarryMarryMarryMarryMarryMarryMarryMarryMarryMarryMarryMarryMarryMarryMarryMarryMarryMarryMarryMarryMarryMarryMarryMarryMarryMarryMarryMarryMarryMarryMarryMarryMarryMarryMarryMarryMarryMarryMarryMarryMarryMarryMarryMarryMarryMarryMarryMarryMarryMarryMarryMarryMarryMarryMarryMarryMarryMarryMarryMarryMarryMarryMarryMarryMarryMarryMarryMarryMarryMarryMarryMarryMarryMarryMarryMarryMarryMarryMarryMarryMarryMarryMarryMarryMarryMarryMarryMarryMarryMarryMarryMarryMarryMarryMarryMarryMarryMarryMarryMarryMarryMarryMarryMarryMarryMarryMarryMarryMarryMarryMarryMarryMarryMarryMarryMarryMarryMarryMarryMarryMarryMarryMarryMarryMarryMarryMarryMarryMarryMarryMarryMarryMarryMarryMarryMarryMarryMarryMarryMarryMarryMarryMarryMarryMarryMarryMarryMarryMarryMarryMarryMarryMarryMarryMarryMarryMarryMarryMarryMarryMarryMarryMarryMarryMarryMarryMarryMarryMarryMarryMarryMarryMarryMarryMarryMarryMarryMarryMarryMarryMarryMarryMarryMarryMarryMarryMarryMarryMarryMarryMarryMarryMarryMarryMarryMarryMarryMarryMarryMarryMarryMarryMarryMarryMarryMarryMarryMarryMarryMarryMarryMarryMarryMarryMarryMarryMarryMarryMarryMarryMarryMarryMarryMarryMarryMarryMarryMarryMarryMarryMarryMarryMarryMarryMarryMarryMarryMarryMarryMarryMarryMarryMarryMarryMarryMarryMarryMarryMarryMarryMarryMarryMarryMarryMarryMarryMarryMarryMarryMarryMarryMarryMarryMarryMarryMarryMarryMarryMarryMarryMarryMarryMarryMarryMarryMarryMarryMarryMarryMarryMarryMarryMarryMarryMarryMarryMarryMarryMarryMarryMarryMarryMarryMarryMarryMarryMarryMarryMarryMarryMarryMarryMarryMarryMarryMarryMarryMarryMarryMarryMarryMarryMarryMarryMarryMarryMarryMarryMarryMarryMarryMarryMarryMarryMarryMarryMarryMarryMarryMarryMarryMarryMarryMarryMarryMarryMarryMarryMarryMarryMarryMarryMarryMarryMarryMarryMarryMarryMarryMarryMarryMarryMarryMarryMarryMarryMarryMarryMarryMarryMarryMarryMarryMarryMarryMarryMarryMarryMarryMarryMarryMarryMarryMarryMarryMarryMarryMarryMarryMarryMarryMarryMarryMarryMarryMarryMarryMarryMarryMarryMarryMarryMarryMarryMarryMarryMarryMarryMarryMarryMarryMarryMarryMarryMarryMarryMarryMarryMarryMarryMarryMarryMarryMarryMarryMarryMarryMarryMarryMarryMarryMarryMarryMarryMarryMarryMarryMarryMarryMarryMarryMarryMarryMarryMarryMarryMarryMarryMarryMarryMarryMarryMarryMarryMarryMarryMarryMarryMarryMarryMarryMarryMarryMarryMarryMarryMarryMarryMarryMarryMarryMarryMarryMarryMarryMarryMarryMarryMarryMarryMarryMarryMarryMarryMarryMarryMarryMarryMarryMarryMarryMarryMarryMarryMarryMarryMarryMarryMarryMarryMarryMarryMarryMarryMarryMarryMarryMarryMarryMarryMarryMarryMarryMarryMarryMarryMarryMarryMarryMarryMarryMarryMarryMarryMarryMarryMarryMarryMarryMarryMarryMarryMarryMarryMarryMarryMarryMarryMarryMarryMarryMarryMarryMarryMarryMarryMarryMarryMarryMarryMarryMarryMarryMarryMarryMarryMarryMarryMarryMarryMarryMarryMarryMarryMarryMarryMarryMarryMarryMarryMarryMarryMarryMarryMarryMarryMarryMarryMarryMarryMarryMarryMarryMarryMarryMarryMarryMarryMarryMarryMarryMarryMarryMarryMarryMarryMarryMarryMarryMarryMarryMarryMarryMarryMarryMarryMarryMarryMarryMarryMarryMarryMarryMarryMarryMarryMarryMarryMarryMarryMarryMarryMarryMarryMarryMarryMarryMarryMarryMarryMarryMarryMarryMarryMarryMarryMarryMarryMarryMarryMarryMarryMarryMarryMarryMarryMarryMarryMarryMarryMarryMarryMarryMarryMarryMarryMarryMarryMarryMarryMarryMarryMarryMarryMarryMarryMarryMarryMarryMarryMarryMarryMarryMarryMarryMarryMarryMarryMarryMarryMarryMarryMarryMarryMarryMarryMarryMarryMarryMarryMarryMarryMarryMarryMarryMarryMarryMarryMarryMarryMarryMarryMarryMarryMarryMarryMarryMarryMarryMarryMarryMarryMarryMarryMarryMarryMarryMarryMarryMarryMarryMarryMarryMarryMarryMarryMarryMarryMarryMarryMarryMarryMarryMarryMarryMarryMarryMarryMarryMarryMarryMarryMarryMarryMarryMarryMarryMarry'"
            ],
            "application/vnd.google.colaboratory.intrinsic+json": {
              "type": "string"
            }
          },
          "metadata": {},
          "execution_count": 9
        }
      ]
    },
    {
      "cell_type": "code",
      "source": [
        "a=int(user_number)\n",
        "type(a)"
      ],
      "metadata": {
        "id": "OZ74JBPWixbT",
        "outputId": "e4506284-1191-41d5-d58c-e3b2df649db5",
        "colab": {
          "base_uri": "https://localhost:8080/"
        }
      },
      "execution_count": 10,
      "outputs": [
        {
          "output_type": "execute_result",
          "data": {
            "text/plain": [
              "int"
            ]
          },
          "metadata": {},
          "execution_count": 10
        }
      ]
    },
    {
      "cell_type": "markdown",
      "source": [
        "Exercise 6"
      ],
      "metadata": {
        "id": "iz7iKkLthXRX"
      }
    },
    {
      "cell_type": "code",
      "source": [
        "sentence = \"Coding is fun and easy to learn!\"\n",
        "\n",
        "word_list=sentence.split()\n",
        "print(word_list)"
      ],
      "metadata": {
        "id": "e_9s7raohZYW",
        "outputId": "920f09c6-a5f4-419f-813e-b69f3840cbec",
        "colab": {
          "base_uri": "https://localhost:8080/"
        }
      },
      "execution_count": 11,
      "outputs": [
        {
          "output_type": "stream",
          "name": "stdout",
          "text": [
            "['Coding', 'is', 'fun', 'and', 'easy', 'to', 'learn!']\n"
          ]
        }
      ]
    },
    {
      "cell_type": "code",
      "source": [
        "type(sentence.split())"
      ],
      "metadata": {
        "id": "ReERdB30j19d",
        "outputId": "4e1e475b-51f5-451b-c6bd-8646e2ea58ee",
        "colab": {
          "base_uri": "https://localhost:8080/"
        }
      },
      "execution_count": 12,
      "outputs": [
        {
          "output_type": "execute_result",
          "data": {
            "text/plain": [
              "list"
            ]
          },
          "metadata": {},
          "execution_count": 12
        }
      ]
    },
    {
      "cell_type": "markdown",
      "source": [
        "Exercise 7"
      ],
      "metadata": {
        "id": "oow8PEw4hfrJ"
      }
    },
    {
      "cell_type": "code",
      "source": [
        "a=\"Coding is Exciting!\"\n",
        "\n",
        "uppercase_text=a.upper()\n",
        "lowercase_text=a.lower()\n",
        "lowercase_text"
      ],
      "metadata": {
        "id": "7-ZwlP42kIZ3",
        "outputId": "ecb7b082-5e97-41a2-db97-9a26c57a739e",
        "colab": {
          "base_uri": "https://localhost:8080/",
          "height": 38
        }
      },
      "execution_count": 13,
      "outputs": [
        {
          "output_type": "execute_result",
          "data": {
            "text/plain": [
              "'coding is exciting!'"
            ],
            "application/vnd.google.colaboratory.intrinsic+json": {
              "type": "string"
            }
          },
          "metadata": {},
          "execution_count": 13
        }
      ]
    },
    {
      "cell_type": "markdown",
      "source": [
        "Exercise 8"
      ],
      "metadata": {
        "id": "0ZO3T1sej1HS"
      }
    },
    {
      "cell_type": "code",
      "source": [
        "quote = \"To be or not to be, that is the question.\""
      ],
      "metadata": {
        "id": "XkzaXzyrjztY"
      },
      "execution_count": 14,
      "outputs": []
    },
    {
      "cell_type": "code",
      "source": [
        "quote[0]"
      ],
      "metadata": {
        "id": "mDj1iQmDlGuU",
        "outputId": "390698a0-c57a-48e4-e6cc-cd8b1de8726a",
        "colab": {
          "base_uri": "https://localhost:8080/",
          "height": 38
        }
      },
      "execution_count": 15,
      "outputs": [
        {
          "output_type": "execute_result",
          "data": {
            "text/plain": [
              "'T'"
            ],
            "application/vnd.google.colaboratory.intrinsic+json": {
              "type": "string"
            }
          },
          "metadata": {},
          "execution_count": 15
        }
      ]
    },
    {
      "cell_type": "code",
      "source": [
        "quote[-1]"
      ],
      "metadata": {
        "id": "JkBdyLeDlKbn",
        "outputId": "9dfbe62b-35a3-4bd8-ee91-59b3729e3e11",
        "colab": {
          "base_uri": "https://localhost:8080/",
          "height": 38
        }
      },
      "execution_count": 16,
      "outputs": [
        {
          "output_type": "execute_result",
          "data": {
            "text/plain": [
              "'.'"
            ],
            "application/vnd.google.colaboratory.intrinsic+json": {
              "type": "string"
            }
          },
          "metadata": {},
          "execution_count": 16
        }
      ]
    },
    {
      "cell_type": "code",
      "source": [
        "quote[0:5]"
      ],
      "metadata": {
        "id": "x3Rz4-fZlKLE",
        "outputId": "388039f3-6d6d-4edc-b3ac-a2dedc082052",
        "colab": {
          "base_uri": "https://localhost:8080/",
          "height": 38
        }
      },
      "execution_count": 17,
      "outputs": [
        {
          "output_type": "execute_result",
          "data": {
            "text/plain": [
              "'To be'"
            ],
            "application/vnd.google.colaboratory.intrinsic+json": {
              "type": "string"
            }
          },
          "metadata": {},
          "execution_count": 17
        }
      ]
    },
    {
      "cell_type": "code",
      "source": [
        "quote[5:]"
      ],
      "metadata": {
        "id": "hNHSkUvClXw9",
        "outputId": "06941324-db0b-42f4-d9f0-89020aa90bde",
        "colab": {
          "base_uri": "https://localhost:8080/",
          "height": 38
        }
      },
      "execution_count": 18,
      "outputs": [
        {
          "output_type": "execute_result",
          "data": {
            "text/plain": [
              "' or not to be, that is the question.'"
            ],
            "application/vnd.google.colaboratory.intrinsic+json": {
              "type": "string"
            }
          },
          "metadata": {},
          "execution_count": 18
        }
      ]
    },
    {
      "cell_type": "code",
      "source": [
        "reverse=quote[::-1]\n",
        "print(reverse)"
      ],
      "metadata": {
        "id": "xBIl6RYSlXhk",
        "outputId": "1e4e396a-23f6-4bc5-9266-23d6f154588d",
        "colab": {
          "base_uri": "https://localhost:8080/"
        }
      },
      "execution_count": 19,
      "outputs": [
        {
          "output_type": "stream",
          "name": "stdout",
          "text": [
            ".noitseuq eht si taht ,eb ot ton ro eb oT\n"
          ]
        }
      ]
    }
  ]
}