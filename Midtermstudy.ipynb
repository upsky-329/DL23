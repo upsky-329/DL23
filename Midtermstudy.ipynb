{
  "nbformat": 4,
  "nbformat_minor": 0,
  "metadata": {
    "colab": {
      "provenance": [],
      "authorship_tag": "ABX9TyP2ZfeoUmDBeJrkdvpBTRBd",
      "include_colab_link": true
    },
    "kernelspec": {
      "name": "python3",
      "display_name": "Python 3"
    },
    "language_info": {
      "name": "python"
    }
  },
  "cells": [
    {
      "cell_type": "markdown",
      "metadata": {
        "id": "view-in-github",
        "colab_type": "text"
      },
      "source": [
        "<a href=\"https://colab.research.google.com/github/upsky-329/DL23/blob/main/Midtermstudy.ipynb\" target=\"_parent\"><img src=\"https://colab.research.google.com/assets/colab-badge.svg\" alt=\"Open In Colab\"/></a>"
      ]
    },
    {
      "cell_type": "markdown",
      "source": [
        "#APIs (Application Programming Interfaces)"
      ],
      "metadata": {
        "id": "vFZOh5l1zf59"
      }
    },
    {
      "cell_type": "markdown",
      "source": [
        "Input types: integer: 자연수, float: 소수, string: 열, ''안에 넣는 것\n",
        "\n",
        "알아보기 위해서 코드 type() 해보면 됨\n",
        "\n",
        "사칙연산 코드/모든 결과값을 표시하고 싶으면 print()->str으로 받아들임\n",
        "\n",
        "add(2,3)\n",
        "subtract(3,2)\n",
        "multiply(2,3)\n",
        "divide(3,2)\n",
        "\n",
        "data.strip()는 쓸모없는 빈 칸 등을 없애줌\n",
        "data.split()은 ()안에 쓴 단위로 나눠줌\n",
        "' '.join()은 ()안에 있는 것을 ' '안의 단위로 연결해줌\n",
        "data.lower()은 전체를 소문자로 바꿔줌\n",
        "data.upper()은 전체를 대문자로 바꿔줌\n",
        "len()은 string의 갯수 ex) mary는 4"
      ],
      "metadata": {
        "id": "EesVeQT5yj5V"
      }
    },
    {
      "cell_type": "markdown",
      "source": [
        "##tts 만들기"
      ],
      "metadata": {
        "id": "k51cJGHCw8OC"
      }
    },
    {
      "cell_type": "code",
      "execution_count": 5,
      "metadata": {
        "colab": {
          "base_uri": "https://localhost:8080/"
        },
        "id": "IWo59k3iwE_K",
        "outputId": "8bc3423a-e1d2-42b8-b2e7-9cf9f07b8855"
      },
      "outputs": [
        {
          "output_type": "stream",
          "name": "stdout",
          "text": [
            "Looking in indexes: https://pypi.org/simple, https://us-python.pkg.dev/colab-wheels/public/simple/\n",
            "Requirement already satisfied: gTTS in /usr/local/lib/python3.10/dist-packages (2.3.2)\n",
            "Requirement already satisfied: requests<3,>=2.27 in /usr/local/lib/python3.10/dist-packages (from gTTS) (2.27.1)\n",
            "Requirement already satisfied: click<8.2,>=7.1 in /usr/local/lib/python3.10/dist-packages (from gTTS) (8.1.3)\n",
            "Requirement already satisfied: urllib3<1.27,>=1.21.1 in /usr/local/lib/python3.10/dist-packages (from requests<3,>=2.27->gTTS) (1.26.15)\n",
            "Requirement already satisfied: certifi>=2017.4.17 in /usr/local/lib/python3.10/dist-packages (from requests<3,>=2.27->gTTS) (2022.12.7)\n",
            "Requirement already satisfied: charset-normalizer~=2.0.0 in /usr/local/lib/python3.10/dist-packages (from requests<3,>=2.27->gTTS) (2.0.12)\n",
            "Requirement already satisfied: idna<4,>=2.5 in /usr/local/lib/python3.10/dist-packages (from requests<3,>=2.27->gTTS) (3.4)\n"
          ]
        }
      ],
      "source": [
        "!pip install gTTS\n",
        "from gtts import gTTS\n",
        "from IPython.display import Audio\n",
        "\n",
        "def tts(text):\n",
        "  gtts_object = gTTS(text,lang = \"en\", slow = True) \n",
        "  gtts_object.save(\"myaudio.mp3\")\n",
        "  return Audio(\"myaudio.mp3\")"
      ]
    },
    {
      "cell_type": "code",
      "source": [
        "mytext = input(\"Type text to generate audio: \")\n",
        "tts(mytext)"
      ],
      "metadata": {
        "colab": {
          "base_uri": "https://localhost:8080/",
          "height": 92
        },
        "id": "PnIFqqbkwViH",
        "outputId": "9d44c962-d30e-4001-e3bd-8543c8fba18f"
      },
      "execution_count": 6,
      "outputs": [
        {
          "name": "stdout",
          "output_type": "stream",
          "text": [
            "Type text to generate audio: Hi, mate?\n"
          ]
        },
        {
          "output_type": "execute_result",
          "data": {
            "text/plain": [
              "<IPython.lib.display.Audio object>"
            ],
            "text/html": [
              "\n",
              "                <audio  controls=\"controls\" >\n",
              "                    <source src=\"data:audio/mpeg;base64,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\" type=\"audio/mpeg\" />\n",
              "                    Your browser does not support the audio element.\n",
              "                </audio>\n",
              "              "
            ]
          },
          "metadata": {},
          "execution_count": 6
        }
      ]
    },
    {
      "cell_type": "code",
      "source": [
        "## random module 만들기"
      ],
      "metadata": {
        "id": "EI0Lmcnt16gN"
      },
      "execution_count": null,
      "outputs": []
    },
    {
      "cell_type": "code",
      "source": [
        "import random"
      ],
      "metadata": {
        "id": "5lBsgcl-1-9W"
      },
      "execution_count": 1,
      "outputs": []
    },
    {
      "cell_type": "code",
      "source": [
        "random.randint(1,6) #random.randint(x,y),x는 포함 y는 미포함함"
      ],
      "metadata": {
        "colab": {
          "base_uri": "https://localhost:8080/"
        },
        "id": "1Ugo7-vA2HPM",
        "outputId": "dbc1a137-44df-468f-aa68-8f2f25b4cd4a"
      },
      "execution_count": 10,
      "outputs": [
        {
          "output_type": "execute_result",
          "data": {
            "text/plain": [
              "2"
            ]
          },
          "metadata": {},
          "execution_count": 10
        }
      ]
    },
    {
      "cell_type": "markdown",
      "source": [
        "##list"
      ],
      "metadata": {
        "id": "Hpmy33-_3OCl"
      }
    },
    {
      "cell_type": "code",
      "source": [
        "x4 = \"John\"\n",
        "list(x4)"
      ],
      "metadata": {
        "colab": {
          "base_uri": "https://localhost:8080/"
        },
        "id": "XX_xEjL_2Lwu",
        "outputId": "17be6405-36b0-4d4d-8c54-fb2d4d82fb67"
      },
      "execution_count": 11,
      "outputs": [
        {
          "output_type": "execute_result",
          "data": {
            "text/plain": [
              "['J', 'o', 'h', 'n']"
            ]
          },
          "metadata": {},
          "execution_count": 11
        }
      ]
    },
    {
      "cell_type": "markdown",
      "source": [
        "##Dictionary datatype: {'key':'value'}"
      ],
      "metadata": {
        "id": "pvb10rV535RV"
      }
    },
    {
      "cell_type": "code",
      "source": [
        "class_size = {\"Class A\": 25, \"Class B\": 30, \"Class C\": 32}\n",
        "class_size['Class C']"
      ],
      "metadata": {
        "id": "pUEZioBW34ju"
      },
      "execution_count": null,
      "outputs": []
    },
    {
      "cell_type": "markdown",
      "source": [
        "##날짜를 시간으로 바꾸기"
      ],
      "metadata": {
        "id": "XVkpAWTl38k9"
      }
    },
    {
      "cell_type": "code",
      "source": [
        "day = 24\n",
        "num_day = input()\n",
        "hours = int(num_day)*24\n",
        "print(hours, \"hours.\")"
      ],
      "metadata": {
        "colab": {
          "base_uri": "https://localhost:8080/"
        },
        "id": "mvf0uTf383wS",
        "outputId": "6390e3f9-dc88-4928-f800-8ba780b77616"
      },
      "execution_count": 12,
      "outputs": [
        {
          "output_type": "stream",
          "name": "stdout",
          "text": [
            "3\n",
            "72 hours.\n"
          ]
        }
      ]
    },
    {
      "cell_type": "markdown",
      "source": [
        "##나이 input"
      ],
      "metadata": {
        "id": "8ucbNB9N_swC"
      }
    },
    {
      "cell_type": "code",
      "source": [
        "age = input(\"Q: How old are you? \")\n",
        "int(age)\n",
        "print(\"A: You typed you're \"+age+' years old.')"
      ],
      "metadata": {
        "id": "GZOWRxdx_rj9"
      },
      "execution_count": null,
      "outputs": []
    },
    {
      "cell_type": "markdown",
      "source": [
        "##list 전체를 제곱승으로 만들기"
      ],
      "metadata": {
        "id": "GKCBFItEAB89"
      }
    },
    {
      "cell_type": "code",
      "source": [
        "numbers = [1, 2, 3, 4, 5]\n",
        "\n",
        "for num in numbers:\n",
        "    print(num ** 2)"
      ],
      "metadata": {
        "colab": {
          "base_uri": "https://localhost:8080/"
        },
        "id": "AiS6DDcFAFca",
        "outputId": "7a2f5ffd-bc09-42a3-b9a9-2d61586b2085"
      },
      "execution_count": 13,
      "outputs": [
        {
          "output_type": "stream",
          "name": "stdout",
          "text": [
            "1\n",
            "4\n",
            "9\n",
            "16\n",
            "25\n"
          ]
        }
      ]
    },
    {
      "cell_type": "markdown",
      "source": [
        "##출석체크하기"
      ],
      "metadata": {
        "id": "Uz-B9gpVAdEs"
      }
    },
    {
      "cell_type": "code",
      "source": [
        "num_names = input(\"How many names? \")\n",
        "num_names = int(num_names)\n",
        "\n",
        "attendance = []\n",
        "\n",
        "for i in range(0, num_names):\n",
        "  name = input()\n",
        "  attendance.append(name)\n",
        "\n",
        "print(attendance)"
      ],
      "metadata": {
        "id": "rvq4HyNXAfM_"
      },
      "execution_count": null,
      "outputs": []
    },
    {
      "cell_type": "markdown",
      "source": [
        "##quiz 만들기"
      ],
      "metadata": {
        "id": "9Tq3ZmmGCfu7"
      }
    },
    {
      "cell_type": "code",
      "source": [
        "import random"
      ],
      "metadata": {
        "id": "uMsbfWS3Cyvg"
      },
      "execution_count": 9,
      "outputs": []
    },
    {
      "cell_type": "code",
      "source": [
        "vocab = {\n",
        "    'apple': 'a round fruit with red or green skin and a white inside',\n",
        "    'dog': 'a common domestic animal that is often kept as a pet',\n",
        "    'book': 'a set of written, printed, or blank pages bound together',\n",
        "}"
      ],
      "metadata": {
        "id": "woD-BRayCrm7"
      },
      "execution_count": 6,
      "outputs": []
    },
    {
      "cell_type": "code",
      "source": [
        "# List data type\n",
        "sentences = [\n",
        "    'The apple is red.',\n",
        "    'I have a dog.',\n",
        "    'She is reading a book.',\n",
        "]"
      ],
      "metadata": {
        "id": "RJ8lMF_GCxlZ"
      },
      "execution_count": 8,
      "outputs": []
    },
    {
      "cell_type": "code",
      "source": [
        "def quiz_vocabulary(vocab):\n",
        "    word, meaning = random.choice(list(vocab.items()))\n",
        "    print(f\"What is the meaning of '{word}'?\")\n",
        "    answer = input().strip().lower()\n",
        "\n",
        "    if answer == meaning.lower():\n",
        "        print(\"Correct!\")\n",
        "    else:\n",
        "        print(f\"Wrong. The correct answer is '{meaning}'.\")"
      ],
      "metadata": {
        "id": "nN3MzxuXCcdb"
      },
      "execution_count": 3,
      "outputs": []
    },
    {
      "cell_type": "code",
      "source": [
        "def practice_sentences(sentences):\n",
        "    sentence = random.choice(sentences)\n",
        "    words = sentence.split()\n",
        "    random.shuffle(words)\n",
        "\n",
        "    print(\"Reconstruct the sentence:\")\n",
        "    print(\" \".join(words))\n",
        "    answer = input().strip()\n",
        "\n",
        "    if answer == sentence:\n",
        "        print(\"Correct!\")\n",
        "    else:\n",
        "        print(f\"Wrong. The correct sentence is '{sentence}'.\")"
      ],
      "metadata": {
        "id": "wbYMEqUVCivi"
      },
      "execution_count": 4,
      "outputs": []
    },
    {
      "cell_type": "code",
      "source": [
        "def main():\n",
        "    while True:\n",
        "        print(\"Choose an option:\")\n",
        "        print(\"1. Quiz vocabulary\")\n",
        "        print(\"2. Practice sentences\")\n",
        "        print(\"3. Quit\")\n",
        "\n",
        "        choice = input().strip()\n",
        "\n",
        "        if choice == '1':\n",
        "            quiz_vocabulary(vocab)\n",
        "        elif choice == '2':\n",
        "            practice_sentences(sentences)\n",
        "        elif choice == '3':\n",
        "            print(\"Goodbye!\")\n",
        "            break\n",
        "        else:\n",
        "            print(\"Invalid option. Please try again.\")"
      ],
      "metadata": {
        "id": "w-3KAbw-B5cx"
      },
      "execution_count": 1,
      "outputs": []
    },
    {
      "cell_type": "code",
      "source": [
        "if __name__ == \"__main__\":\n",
        "    main()"
      ],
      "metadata": {
        "colab": {
          "base_uri": "https://localhost:8080/"
        },
        "id": "ENA_94EVCVNC",
        "outputId": "a6ba0ee6-833d-4f28-de37-5eb765b90748"
      },
      "execution_count": 10,
      "outputs": [
        {
          "output_type": "stream",
          "name": "stdout",
          "text": [
            "Choose an option:\n",
            "1. Quiz vocabulary\n",
            "2. Practice sentences\n",
            "3. Quit\n",
            "1\n",
            "What is the meaning of 'dog'?\n",
            "d\n",
            "Wrong. The correct answer is 'a common domestic animal that is often kept as a pet'.\n",
            "Choose an option:\n",
            "1. Quiz vocabulary\n",
            "2. Practice sentences\n",
            "3. Quit\n",
            "2\n",
            "Reconstruct the sentence:\n",
            "The is red. apple\n",
            "e\n",
            "Wrong. The correct sentence is 'The apple is red.'.\n",
            "Choose an option:\n",
            "1. Quiz vocabulary\n",
            "2. Practice sentences\n",
            "3. Quit\n",
            "3\n",
            "Goodbye!\n"
          ]
        }
      ]
    }
  ]
}