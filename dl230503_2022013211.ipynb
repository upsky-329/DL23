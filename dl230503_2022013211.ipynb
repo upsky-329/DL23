{
  "nbformat": 4,
  "nbformat_minor": 0,
  "metadata": {
    "colab": {
      "provenance": [],
      "include_colab_link": true
    },
    "kernelspec": {
      "name": "python3",
      "display_name": "Python 3"
    },
    "language_info": {
      "name": "python"
    }
  },
  "cells": [
    {
      "cell_type": "markdown",
      "metadata": {
        "id": "view-in-github",
        "colab_type": "text"
      },
      "source": [
        "<a href=\"https://colab.research.google.com/github/upsky-329/DL23/blob/main/dl230503_2022013211.ipynb\" target=\"_parent\"><img src=\"https://colab.research.google.com/assets/colab-badge.svg\" alt=\"Open In Colab\"/></a>"
      ]
    },
    {
      "cell_type": "markdown",
      "source": [
        "# **Digital Literacy Midterm Spring 2023 (5/3, Wednesday)**\n",
        "\n",
        "There are two parts:\n",
        "\n",
        "🌀**Part I: Coding in Colab (20 questions, 30 points): max 40 mins**\n",
        "\n",
        "+ Q1~10 (1 point each * 10 = 10)\n",
        "+ Q11~Q20 (2 points each * 10 = 20)\n",
        "\n",
        "\n",
        "🌀**Part II: Google Form (30 questions, 30 points)**\n",
        "\n",
        "Total 50 minutes are allowed."
      ],
      "metadata": {
        "id": "uG7ryUj1vrAd"
      }
    },
    {
      "cell_type": "markdown",
      "source": [
        "---\n",
        "##**Instructions**\n",
        "\n",
        "When times up (max 40 mins), save this copy as a pdf file (to upload) AND to your github repository with the following file name format:\n",
        "\n",
        "\n",
        "## 📌 Files: \n",
        "##**1) dl230503_yourid.pdf**\n",
        "##**2) dl230503_yourid.ipynb**\n",
        "---"
      ],
      "metadata": {
        "id": "Nvk-6cX5vzGf"
      }
    },
    {
      "cell_type": "markdown",
      "source": [
        "# 🌀**Part I: Coding in Colab (20 questions, 30 points): max 40 mins**"
      ],
      "metadata": {
        "id": "QXo452swwdC-"
      }
    },
    {
      "cell_type": "code",
      "source": [
        "yourname = input(\"Type your name here: \")"
      ],
      "metadata": {
        "id": "Navu6pa1HRUo",
        "outputId": "08146178-7801-46d8-db82-2bd6b4fc1391",
        "colab": {
          "base_uri": "https://localhost:8080/"
        }
      },
      "execution_count": 76,
      "outputs": [
        {
          "name": "stdout",
          "output_type": "stream",
          "text": [
            "Type your name here: 옥승민\n"
          ]
        }
      ]
    },
    {
      "cell_type": "markdown",
      "source": [
        "##Q1. Create a list called fruits and add three of your favorite fruits to it. Then, print the list."
      ],
      "metadata": {
        "id": "f_6UoScV9Egz"
      }
    },
    {
      "cell_type": "code",
      "source": [
        "fruits=['mango', 'apple', 'orange']\n",
        "list(fruits)"
      ],
      "metadata": {
        "id": "7pvq2ocQ9F5z",
        "colab": {
          "base_uri": "https://localhost:8080/"
        },
        "outputId": "e82a5749-4b63-42a7-833d-e8668aa26fa7"
      },
      "execution_count": 78,
      "outputs": [
        {
          "output_type": "execute_result",
          "data": {
            "text/plain": [
              "['mango', 'apple', 'orange']"
            ]
          },
          "metadata": {},
          "execution_count": 78
        }
      ]
    },
    {
      "cell_type": "markdown",
      "source": [
        "##Q2. Create a variable called **_name_** and ask the user to enter their name. Then, print a message that says \"Hello, [name]!\"."
      ],
      "metadata": {
        "id": "PcXue4xzv-Yw"
      }
    },
    {
      "cell_type": "code",
      "source": [
        "print('Hello, ' + input('What is your name?:') +'!')"
      ],
      "metadata": {
        "id": "giTXfqgOwC0O",
        "colab": {
          "base_uri": "https://localhost:8080/"
        },
        "outputId": "5b3de75f-99fa-4a6f-b3f2-d907084cc11f"
      },
      "execution_count": 89,
      "outputs": [
        {
          "output_type": "stream",
          "name": "stdout",
          "text": [
            "What is your name?:seungmin\n",
            "Hello, seungmin!\n"
          ]
        }
      ]
    },
    {
      "cell_type": "markdown",
      "source": [
        "##Q3. Create a variable called **_age_** and ask the user to enter their age. Then, print a message that says \"You are [age] years old\"."
      ],
      "metadata": {
        "id": "AePeo9Xj81Lq"
      }
    },
    {
      "cell_type": "code",
      "source": [
        "\"You are \" + input('How old are you?: ') + \" years old.\""
      ],
      "metadata": {
        "id": "-uZrFNqJ8-P1",
        "colab": {
          "base_uri": "https://localhost:8080/",
          "height": 54
        },
        "outputId": "586efef0-2c6f-480d-ce82-399f3a310c59"
      },
      "execution_count": 88,
      "outputs": [
        {
          "name": "stdout",
          "output_type": "stream",
          "text": [
            "How old are you?: 21\n"
          ]
        },
        {
          "output_type": "execute_result",
          "data": {
            "text/plain": [
              "'You are 21 years old.'"
            ],
            "application/vnd.google.colaboratory.intrinsic+json": {
              "type": "string"
            }
          },
          "metadata": {},
          "execution_count": 88
        }
      ]
    },
    {
      "cell_type": "markdown",
      "source": [
        "##Q4. Create a dictionary called **_person_** with keys name, age, and ID. Set the values to your own name, age, and address. Then, print the dictionary."
      ],
      "metadata": {
        "id": "em_AuOW78-p2"
      }
    },
    {
      "cell_type": "code",
      "source": [
        "person = {'name': '옥승민', 'age': '21', 'ID': '2022013211'}\n",
        "print(person)"
      ],
      "metadata": {
        "id": "RLK7p5Q49cV0",
        "colab": {
          "base_uri": "https://localhost:8080/"
        },
        "outputId": "9862e641-7329-488b-9175-b9a9d622d59d"
      },
      "execution_count": 153,
      "outputs": [
        {
          "output_type": "stream",
          "name": "stdout",
          "text": [
            "{'name': '옥승민', 'age': '21', 'ID': '2022013211'}\n"
          ]
        }
      ]
    },
    {
      "cell_type": "markdown",
      "source": [
        "##Q5. Create a variable called **_num1_** and set it to 5. Create another variable called **_num2_** and set it to 10. Add num1 and num2 together and print the result."
      ],
      "metadata": {
        "id": "d7JQrF_W9b0_"
      }
    },
    {
      "cell_type": "code",
      "source": [
        "num1=5\n",
        "num2=10\n",
        "print(num1, num2)"
      ],
      "metadata": {
        "id": "tnZxKJ5D9veI",
        "colab": {
          "base_uri": "https://localhost:8080/"
        },
        "outputId": "8bdc61b4-9145-4531-bd80-c6213eec07e4"
      },
      "execution_count": 91,
      "outputs": [
        {
          "output_type": "stream",
          "name": "stdout",
          "text": [
            "5 10\n"
          ]
        }
      ]
    },
    {
      "cell_type": "markdown",
      "source": [
        "##Q6. Create a variable called **_num3_** and set it to 3. Create another variable called **_num4_** and set it to 2. Divide num3 by num4 and print the result."
      ],
      "metadata": {
        "id": "-i5804vz9U5q"
      }
    },
    {
      "cell_type": "code",
      "source": [
        "num3=3\n",
        "num4=2\n",
        "print(num3/num4)"
      ],
      "metadata": {
        "id": "jzdLu_QG9-wY",
        "colab": {
          "base_uri": "https://localhost:8080/"
        },
        "outputId": "709abac3-b876-437e-bb5f-a5f3b86121b8"
      },
      "execution_count": 92,
      "outputs": [
        {
          "output_type": "stream",
          "name": "stdout",
          "text": [
            "1.5\n"
          ]
        }
      ]
    },
    {
      "cell_type": "markdown",
      "source": [
        "##Q7. Create a variable called **_sentence_** and set it to \"The quick brown fox jumps over the lazy dog\". Use the **split()** function to split the sentence into a list of words. Then, print the list."
      ],
      "metadata": {
        "id": "5s5sjEco9_CM"
      }
    },
    {
      "cell_type": "code",
      "source": [
        "sentence='The quick brown fox jumps over the lazy dog.'\n",
        "sentence.split()"
      ],
      "metadata": {
        "id": "RD4gaQKe-KO-",
        "colab": {
          "base_uri": "https://localhost:8080/"
        },
        "outputId": "afd4136b-b777-4b73-e7ed-7c173b5ee226"
      },
      "execution_count": 94,
      "outputs": [
        {
          "output_type": "execute_result",
          "data": {
            "text/plain": [
              "['The', 'quick', 'brown', 'fox', 'jumps', 'over', 'the', 'lazy', 'dog.']"
            ]
          },
          "metadata": {},
          "execution_count": 94
        }
      ]
    },
    {
      "cell_type": "markdown",
      "source": [
        "##Q8. Create a list called **_colors_** and add three of your favorite colors to it. Use the **join()** function to join the list into a string separated by commas. Then, print the string."
      ],
      "metadata": {
        "id": "LB1OOu5--LEJ"
      }
    },
    {
      "cell_type": "code",
      "source": [
        "colors=['red', 'blue', 'green']"
      ],
      "metadata": {
        "id": "R885XASr-Ttn"
      },
      "execution_count": 150,
      "outputs": []
    },
    {
      "cell_type": "markdown",
      "source": [
        "##Q9. Create a variable called **_number_** and set it to 5. Use the **str()** function to convert the number to a string. Then, print number + 7"
      ],
      "metadata": {
        "id": "dAI5abTF-UBn"
      }
    },
    {
      "cell_type": "code",
      "source": [
        "number=5\n",
        "str(number) +'+7'"
      ],
      "metadata": {
        "id": "JBBLWa8U-y60",
        "colab": {
          "base_uri": "https://localhost:8080/",
          "height": 35
        },
        "outputId": "14a15115-0f52-4a62-ff76-4e45cc60813c"
      },
      "execution_count": 103,
      "outputs": [
        {
          "output_type": "execute_result",
          "data": {
            "text/plain": [
              "'5+7'"
            ],
            "application/vnd.google.colaboratory.intrinsic+json": {
              "type": "string"
            }
          },
          "metadata": {},
          "execution_count": 103
        }
      ]
    },
    {
      "cell_type": "markdown",
      "source": [
        "##Q10. Create a variable called **_my_string_** and set it to \"Hello, world!\". Use the index() function to find the index of the letter \"w\" in the string. Then, print the index."
      ],
      "metadata": {
        "id": "p7l0HIDq-zJR"
      }
    },
    {
      "cell_type": "code",
      "source": [
        "my_string=\"Hello, world!\"\n",
        "my_string[7]"
      ],
      "metadata": {
        "id": "EQCj1EFc_wVi",
        "colab": {
          "base_uri": "https://localhost:8080/",
          "height": 35
        },
        "outputId": "0fa77e95-8ff5-4936-c893-1d3e28603363"
      },
      "execution_count": 104,
      "outputs": [
        {
          "output_type": "execute_result",
          "data": {
            "text/plain": [
              "'w'"
            ],
            "application/vnd.google.colaboratory.intrinsic+json": {
              "type": "string"
            }
          },
          "metadata": {},
          "execution_count": 104
        }
      ]
    },
    {
      "cell_type": "markdown",
      "source": [
        "##Q11. Create a variable called **_my_list_** and set it to [1, 2, 3, 4, 5]. Use the len() function to find the length of the list. Then, print the length."
      ],
      "metadata": {
        "id": "3cQvEKzw_xGG"
      }
    },
    {
      "cell_type": "code",
      "source": [
        "my_list=[1, 2, 3, 4, 5]\n",
        "len(my_list)"
      ],
      "metadata": {
        "id": "XWNin3P8_5N6",
        "colab": {
          "base_uri": "https://localhost:8080/"
        },
        "outputId": "ada74fb2-9aac-4e97-9ae9-f3519237b99a"
      },
      "execution_count": 105,
      "outputs": [
        {
          "output_type": "execute_result",
          "data": {
            "text/plain": [
              "5"
            ]
          },
          "metadata": {},
          "execution_count": 105
        }
      ]
    },
    {
      "cell_type": "markdown",
      "source": [
        "##Q12. Create a variable called **_my_string_** and set it to \"Hello, world!\". Use slicing to print the first 5 characters of the string."
      ],
      "metadata": {
        "id": "x1wsjbhI_5oA"
      }
    },
    {
      "cell_type": "code",
      "source": [
        "my_string=\"Hello, world!\"\n"
      ],
      "metadata": {
        "id": "xw4BY9wJAFzc"
      },
      "execution_count": 106,
      "outputs": []
    },
    {
      "cell_type": "markdown",
      "source": [
        "##Q13. Create a list called **_numbers_**. Using the random.randint() function, add five random integers to it. Then, print the list. \n",
        "\n",
        "**Note:** You should not write the random number on your own. The code should take the random number and add it to your list."
      ],
      "metadata": {
        "id": "MkzTNSRBAGTM"
      }
    },
    {
      "cell_type": "code",
      "source": [
        "import random\n",
        "random.randint(1,6)\n"
      ],
      "metadata": {
        "id": "eDwWJE0TAP0u",
        "colab": {
          "base_uri": "https://localhost:8080/"
        },
        "outputId": "c85fb4f0-cbd3-4df1-bf08-c3197566a8c6"
      },
      "execution_count": 111,
      "outputs": [
        {
          "output_type": "execute_result",
          "data": {
            "text/plain": [
              "4"
            ]
          },
          "metadata": {},
          "execution_count": 111
        }
      ]
    },
    {
      "cell_type": "markdown",
      "source": [
        "##Q14. [1] Create a list of your favorite colors called **color_list** with at least three colors. [2] Use a **for loop** to iterate through the list and print each color."
      ],
      "metadata": {
        "id": "Bzfbrkc5A7KS"
      }
    },
    {
      "cell_type": "code",
      "source": [
        "color_list = []\n",
        "\n",
        "for in :"
      ],
      "metadata": {
        "id": "xAAf0Ez6BXII"
      },
      "execution_count": null,
      "outputs": []
    },
    {
      "cell_type": "markdown",
      "source": [
        "## Q15. Create a list of your favorite foods called **food_list** with at least three foods. Use a **for loop** to iterate through the list and print each food in uppercase letters."
      ],
      "metadata": {
        "id": "PBeXyJjdBXjq"
      }
    },
    {
      "cell_type": "code",
      "source": [
        "food_list = []\n",
        "\n",
        "for"
      ],
      "metadata": {
        "id": "x7Ci5q0pBkui"
      },
      "execution_count": null,
      "outputs": []
    },
    {
      "cell_type": "markdown",
      "source": [
        "##Q16.Create a list of your favorite animals called **animal_list** with at least three animals. Use a **for loop** to iterate through the list and print each animal, along with a message saying \"I love [animal]!\"\n",
        "\n"
      ],
      "metadata": {
        "id": "2l_4Ae3uBnQ0"
      }
    },
    {
      "cell_type": "code",
      "source": [
        "animal_list = []\n",
        "\n",
        "for\n"
      ],
      "metadata": {
        "id": "RWBlkXMqB6py"
      },
      "execution_count": null,
      "outputs": []
    },
    {
      "cell_type": "markdown",
      "source": [
        "##Q17. The following code should create a list of numbers from 1 to 5 and print the sum of the numbers, but there is an error. Identify and fix the error so that the code runs with no error.\n",
        "\n"
      ],
      "metadata": {
        "id": "YzWHkQmPCr4p"
      }
    },
    {
      "cell_type": "code",
      "source": [
        "my_list = [1, 2, 3, 4, 5]\n",
        "total = sum(my_list)\n",
        "print(\"The sum is: \" + str(total))"
      ],
      "metadata": {
        "id": "wKMgVa5FDmdm",
        "outputId": "3b49bee0-a4cf-4883-fb8b-4882219674aa",
        "colab": {
          "base_uri": "https://localhost:8080/"
        }
      },
      "execution_count": 112,
      "outputs": [
        {
          "output_type": "stream",
          "name": "stdout",
          "text": [
            "The sum is: 15\n"
          ]
        }
      ]
    },
    {
      "cell_type": "markdown",
      "source": [
        "##Q18. The following code should create a dictionary of fruit names and their corresponding colors, and then print the color of the fruit \"banana\", but there is an error. Identify and fix the error so that the code runs with no error."
      ],
      "metadata": {
        "id": "pMFKmV7YD1dA"
      }
    },
    {
      "cell_type": "code",
      "source": [
        "fruit_dict = {'apple': 'red', 'banana': 'yellow', 'orange': 'orange'}\n",
        "print(fruit_dict['banana'])"
      ],
      "metadata": {
        "id": "NCluyxSSD4QU",
        "outputId": "2c552283-a7e9-4615-d5b4-708782ac39d7",
        "colab": {
          "base_uri": "https://localhost:8080/"
        }
      },
      "execution_count": 114,
      "outputs": [
        {
          "output_type": "stream",
          "name": "stdout",
          "text": [
            "yellow\n"
          ]
        }
      ]
    },
    {
      "cell_type": "markdown",
      "source": [
        "## Q19. Read the code below and identify the error. Then, fix the error so that the program outputs the fourth item (i.e., 'grape') in the list."
      ],
      "metadata": {
        "id": "89SBCwZH2AmN"
      }
    },
    {
      "cell_type": "code",
      "source": [
        "fruit = [\"apple\", \"banana\", \"orange\", \"grape\"]\n",
        "print(fruit[3])"
      ],
      "metadata": {
        "id": "QFkH3Crf1_-c",
        "outputId": "33b86402-325d-4162-9ebe-14fa0c0a35f0",
        "colab": {
          "base_uri": "https://localhost:8080/"
        }
      },
      "execution_count": 115,
      "outputs": [
        {
          "output_type": "stream",
          "name": "stdout",
          "text": [
            "grape\n"
          ]
        }
      ]
    },
    {
      "cell_type": "markdown",
      "source": [
        "##Q19. The following code should create a string containing the words \"apple\", \"banana\", and \"orange\" separated by commas. Split the string into a list of the individual words, so that the output becomes [\"apple\", \"banana\", \"orange\"] and not [\"apple,banana,orange\"]."
      ],
      "metadata": {
        "id": "cqhaBl5yD_Zb"
      }
    },
    {
      "cell_type": "code",
      "source": [
        "my_string = \"apple,banana,orange\"\n",
        "my_list = my_string.split(',')\n",
        "print(my_list)"
      ],
      "metadata": {
        "id": "SsjNp-jUEC3t",
        "outputId": "862b639a-bbb0-4a54-acfe-a01716e55250",
        "colab": {
          "base_uri": "https://localhost:8080/"
        }
      },
      "execution_count": 116,
      "outputs": [
        {
          "output_type": "stream",
          "name": "stdout",
          "text": [
            "['apple', 'banana', 'orange']\n"
          ]
        }
      ]
    },
    {
      "cell_type": "markdown",
      "source": [
        "##Q20. Create a language application that changes a declarative sentence to an imperative sentence. Test the app with the following sentences: \n",
        "\n",
        "1. \"You take your seat.\" > (output) Take your seat!\n",
        "2. \"You bring your book.\" > (output) Bring your book!\n",
        "\n",
        "+ Step1. Start with the first sentence, and add code lines in order to get the output ('Take your seat!')\n",
        "+ Step2. Make another code cell and make a user interactive app using input(). Here you should be able to get the output of the second sentence when the user type the second sentence."
      ],
      "metadata": {
        "id": "uHHgSSliE8o8"
      }
    },
    {
      "cell_type": "code",
      "source": [
        "s = \"You take your seat.\"\n",
        "s.split()\n",
        "x=s.split()[1]\n",
        "x[0].upper()+x[1:]+s[8:-1]+'!'"
      ],
      "metadata": {
        "id": "rQlNj2QqFlT_",
        "outputId": "1b90e949-9b66-4252-d946-a32680781422",
        "colab": {
          "base_uri": "https://localhost:8080/",
          "height": 35
        }
      },
      "execution_count": 133,
      "outputs": [
        {
          "output_type": "execute_result",
          "data": {
            "text/plain": [
              "'Take your seat!'"
            ],
            "application/vnd.google.colaboratory.intrinsic+json": {
              "type": "string"
            }
          },
          "metadata": {},
          "execution_count": 133
        }
      ]
    },
    {
      "cell_type": "code",
      "source": [
        "s = input()\n",
        "s.split()\n",
        "x=s.split()[1]\n",
        "x[0].upper()+x[1:]+s[9:-1]+'!'"
      ],
      "metadata": {
        "colab": {
          "base_uri": "https://localhost:8080/",
          "height": 54
        },
        "id": "OPX8_wf8ywIJ",
        "outputId": "9ade49b5-725f-4092-ac86-d1043ff19758"
      },
      "execution_count": 148,
      "outputs": [
        {
          "name": "stdout",
          "output_type": "stream",
          "text": [
            "You bring your book.\n"
          ]
        },
        {
          "output_type": "execute_result",
          "data": {
            "text/plain": [
              "'Bring your book!'"
            ],
            "application/vnd.google.colaboratory.intrinsic+json": {
              "type": "string"
            }
          },
          "metadata": {},
          "execution_count": 148
        }
      ]
    },
    {
      "cell_type": "markdown",
      "source": [
        "---\n",
        "# 📌Submission: 2 submissions\n",
        "\n",
        "[1] pdf submission (File > Print > pdf print), save pdf on the desktop, get it ready to upload your file to the google form below. \n",
        "+ File name: dl230503_yourid.pdf\n",
        "\n",
        "[2] Save this file in your github repository. \n",
        "+ File name: dl230503_yourid.ipynb"
      ],
      "metadata": {
        "id": "Pr37pv-b2wu-"
      }
    },
    {
      "cell_type": "markdown",
      "source": [
        "# 🌀 **Part II: Using a Google form (30 questions, 30 points)**\n",
        "\n",
        "[Click here to start](https://forms.gle/eidnsEzd4VkRXC4i7)\n"
      ],
      "metadata": {
        "id": "y8Uj1W9w4p-f"
      }
    }
  ]
}